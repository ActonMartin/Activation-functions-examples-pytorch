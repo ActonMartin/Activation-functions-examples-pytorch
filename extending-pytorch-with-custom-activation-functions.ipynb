{
 "cells": [
  {
   "cell_type": "code",
   "execution_count": 1,
   "metadata": {
    "_cell_guid": "b1076dfc-b9ad-4769-8c92-a6c4dae69d19",
    "_kg_hide-input": true,
    "_uuid": "8f2839f25d086af736a60e9eeb907d3b93b6e0e5"
   },
   "outputs": [],
   "source": [
    "# Imports\n",
    "\n",
    "# Import basic libraries\n",
    "import numpy as np # linear algebra\n",
    "import pandas as pd # data processing, CSV file I/O (e.g. pd.read_csv)\n",
    "%matplotlib inline\n",
    "import matplotlib.pyplot as plt\n",
    "plt.style.use('seaborn-whitegrid')\n",
    "from collections import OrderedDict\n",
    "from PIL import Image\n",
    "\n",
    "# Import PyTorch\n",
    "import torch # import main library\n",
    "from torch.autograd import Variable\n",
    "import torch.nn as nn # import modules\n",
    "from torch.autograd import Function # import Function to create custom activations\n",
    "from torch.nn.parameter import Parameter # import Parameter to create custom activations with learnable parameters\n",
    "from torch import optim # import optimizers for demonstrations\n",
    "import torch.nn.functional as F # import torch functions\n",
    "from torchvision import transforms # import transformations to use for demo\n",
    "from torch.utils.data import Dataset, DataLoader "
   ]
  },
  {
   "cell_type": "markdown",
   "metadata": {},
   "source": [
    "![image](https://github.com/Lexie88rus/Activation-functions-examples-pytorch/raw/master/assets/blur-blurry-close-up-167259.jpg)"
   ]
  },
  {
   "cell_type": "markdown",
   "metadata": {
    "_cell_guid": "79c7e3d0-c299-4dcb-8224-4455121ee9b0",
    "_uuid": "d629ff2d2480ee46fbb7e2d37f6b5fab8052498a",
    "collapsed": true
   },
   "source": [
    "# Extending PyTorch with Custom Activation Functions"
   ]
  },
  {
   "cell_type": "markdown",
   "metadata": {},
   "source": [
    "## Introduction\n",
    "Today deep learning is viral and applied to a variety of machine learning problems such as image recognition, speech recognition, machine translation, etc. There is a wide range of highly customizable neural network architectures, which can suit almost any problem when given enough data. Each neural network should be customized to suit the given problem well enough. You have to fine tune the hyperparameters for the network for each task (the learning rate, dropout coefficients, weight decay, etc.) as well as number of hidden layers, number of units in layers. __Choosing the right activation function for each layer is also crucial and may have a significant impact on learning speed.__"
   ]
  },
  {
   "cell_type": "markdown",
   "metadata": {},
   "source": [
    "## Activation Functions\n"
   ]
  },
  {
   "cell_type": "markdown",
   "metadata": {},
   "source": [
    "The [activation function](https://www.analyticsvidhya.com/blog/2017/10/fundamentals-deep-learning-activation-functions-when-to-use-them/) is an essential building block for every neural network. We can choose from a huge list of popular activation functions, which are already implemented in Deep Learning frameworks, like [ReLU](https://en.wikipedia.org/wiki/Rectifier_(neural_networks), [Sigmoid](https://en.wikipedia.org/wiki/Sigmoid_function), [Tanh](https://en.wikipedia.org/wiki/Hyperbolic_function) and many others.\n",
    "\n",
    "But to create a state of the art model, customized particularly for your task, you may need to use a custom activation function, which is not yet implemented in Deep Learning framework you are using. Activation functions can be roughly classified into the following groups by complexity:\n",
    "\n",
    "1. Simple activation functions like [SiLU](https://arxiv.org/pdf/1606.08415.pdf), [Inverse square root unit (ISRU)](https://arxiv.org/pdf/1710.09967.pdf). These functions can be easily implemented in any Deep Learning framework.\n",
    "2. Activation functions with __trainable parameters__ like [SoftExponential](https://arxiv.org/pdf/1602.01321.pdf) or [S-shaped rectified linear activation unit (SReLU)](https://arxiv.org/pdf/1512.07030.pdf). \n",
    "3. Activation functions, which are not differentiable at some points and require __custom implementation of backward step__, for example [Bipolar rectified linear unit (BReLU)](https://arxiv.org/pdf/1709.04054.pdf).\n",
    "\n",
    "In this kernel I will try to cover implementation and demo examples for all of these types of functions using [Fashion MNIST dataset](https://www.kaggle.com/zalando-research/fashionmnist)."
   ]
  },
  {
   "cell_type": "markdown",
   "metadata": {},
   "source": [
    "## Seeting Up The Demo\n",
    "Ih this section I will prepare everything for the demonstration:\n",
    "* Load Fashion MNIST dataset from PyTorch,\n",
    "* Introduce transformations for Fashion MNIST images using PyTorch,\n",
    "* Prepare model training procedure.\n",
    "\n",
    "If you are familiar with PyTorch basics, just skip this part and go straight to implementation of the activation functions."
   ]
  },
  {
   "cell_type": "markdown",
   "metadata": {},
   "source": [
    "### Introduce Transformations"
   ]
  },
  {
   "cell_type": "markdown",
   "metadata": {},
   "source": [
    "The most efficient way to transform the input data is to use buil-in PyTorch transformations:"
   ]
  },
  {
   "cell_type": "code",
   "execution_count": 2,
   "metadata": {},
   "outputs": [],
   "source": [
    "# Define a transform\n",
    "transform = transforms.Compose([transforms.ToTensor()])"
   ]
  },
  {
   "cell_type": "markdown",
   "metadata": {},
   "source": [
    "### Load the Data"
   ]
  },
  {
   "cell_type": "markdown",
   "metadata": {},
   "source": [
    "To load the data I used standard Dataset and Dataloader classes from PyTorch and [FashionMNIST class code from this kernel](https://www.kaggle.com/arturlacerda/pytorch-conditional-gan):"
   ]
  },
  {
   "cell_type": "code",
   "execution_count": 3,
   "metadata": {},
   "outputs": [],
   "source": [
    "class FashionMNIST(Dataset):\n",
    "    '''\n",
    "    Dataset clas to load Fashion MNIST data from csv.\n",
    "    Code from original kernel:\n",
    "    https://www.kaggle.com/arturlacerda/pytorch-conditional-gan\n",
    "    '''\n",
    "    def __init__(self, transform=None):\n",
    "        self.transform = transform\n",
    "        fashion_df = pd.read_csv('../input/fashion-mnist_train.csv')\n",
    "        self.labels = fashion_df.label.values\n",
    "        self.images = fashion_df.iloc[:, 1:].values.astype('uint8').reshape(-1, 28, 28)\n",
    "\n",
    "    def __len__(self):\n",
    "        return len(self.images)\n",
    "\n",
    "    def __getitem__(self, idx):\n",
    "        label = self.labels[idx]\n",
    "        img = Image.fromarray(self.images[idx])\n",
    "        \n",
    "        if self.transform:\n",
    "            img = self.transform(img)\n",
    "\n",
    "        return img, label\n",
    "\n",
    "# Load the training data for Fashion MNIST\n",
    "trainset = FashionMNIST(transform=transform)\n",
    "# Define the dataloader\n",
    "trainloader = torch.utils.data.DataLoader(trainset, batch_size=64, shuffle=True)"
   ]
  },
  {
   "cell_type": "markdown",
   "metadata": {},
   "source": [
    "### Setup Training Procedure\n",
    "I wrote a small training procedure, which runs 5 training epochs and prints the loss for each epoch, so we make sure that we are fitting the training set:"
   ]
  },
  {
   "cell_type": "code",
   "execution_count": 4,
   "metadata": {},
   "outputs": [],
   "source": [
    "def train_model(model):\n",
    "    '''\n",
    "    Function trains the model and prints out the training log.\n",
    "    '''\n",
    "    #setup training\n",
    "    \n",
    "    #define loss function\n",
    "    criterion = nn.NLLLoss()\n",
    "    #define learning rate\n",
    "    learning_rate = 0.003\n",
    "    #define number of epochs\n",
    "    epochs = 5\n",
    "    #initialize optimizer\n",
    "    optimizer = optim.Adam(model.parameters(), lr=learning_rate)\n",
    "\n",
    "    #run training and print out the loss to make sure that we are actually fitting to the training set\n",
    "    print('Training the model. Make sure that loss decreases after each epoch.\\n')\n",
    "    for e in range(epochs):\n",
    "        running_loss = 0\n",
    "        for images, labels in trainloader:\n",
    "            images = images.view(images.shape[0], -1)\n",
    "            log_ps = model(images)\n",
    "            loss = criterion(log_ps, labels)\n",
    "\n",
    "            optimizer.zero_grad()\n",
    "            loss.backward()\n",
    "            optimizer.step()\n",
    "\n",
    "            running_loss += loss.item()\n",
    "        else:\n",
    "            # print out the loss to make sure it is decreasing\n",
    "            print(f\"Training loss: {running_loss}\")"
   ]
  },
  {
   "cell_type": "markdown",
   "metadata": {},
   "source": [
    "## Implementing Simple Activation Functions\n",
    "The most simple activation functions\n",
    "* are differentiable and don't need the manual implementation of the backward step,\n",
    "* don't have any trainable parameters, all their parameters are set in advance.\n",
    "\n",
    "One of the examples of such simple functions is Sigmoid Linear Unit or just [SiLU](https://arxiv.org/pdf/1606.08415.pdf) also known as Swish-1:\n",
    "\n",
    "$$SiLU(x) = x * \\sigma(x) = x * \\frac{1}{1 + e^{-x}}$$\n",
    "\n",
    "Plot:"
   ]
  },
  {
   "cell_type": "code",
   "execution_count": 5,
   "metadata": {
    "_kg_hide-input": true
   },
   "outputs": [
    {
     "data": {
      "image/png": "[encoded data removed]",
      "text/plain": [
       "<Figure size 720x504 with 1 Axes>"
      ]
     },
     "metadata": {
      "needs_background": "light"
     },
     "output_type": "display_data"
    }
   ],
   "source": [
    "def sigmoid(x):\n",
    "    return 1 / (1 + np.exp(-x))\n",
    "\n",
    "fig = plt.figure(figsize=(10,7))\n",
    "ax = plt.axes()\n",
    "\n",
    "plt.title(\"SiLU\")\n",
    "\n",
    "x = np.linspace(-10, 10, 1000)\n",
    "ax.plot(x, x * sigmoid(x), '-g');"
   ]
  },
  {
   "cell_type": "markdown",
   "metadata": {},
   "source": [
    "The implementation of SiLU:"
   ]
  },
  {
   "cell_type": "code",
   "execution_count": 6,
   "metadata": {},
   "outputs": [],
   "source": [
    "# simply define a silu function\n",
    "def silu(input):\n",
    "    '''\n",
    "    Applies the Sigmoid Linear Unit (SiLU) function element-wise:\n",
    "\n",
    "        SiLU(x) = x * sigmoid(x)\n",
    "    '''\n",
    "    return input * torch.sigmoid(input) # use torch.sigmoid to make sure that we created the most efficient implemetation based on builtin PyTorch functions\n",
    "\n",
    "# create a class wrapper from PyTorch nn.Module, so\n",
    "# the function now can be easily used in models\n",
    "class SiLU(nn.Module):\n",
    "    '''\n",
    "    Applies the Sigmoid Linear Unit (SiLU) function element-wise:\n",
    "    \n",
    "        SiLU(x) = x * sigmoid(x)\n",
    "\n",
    "    Shape:\n",
    "        - Input: (N, *) where * means, any number of additional\n",
    "          dimensions\n",
    "        - Output: (N, *), same shape as the input\n",
    "\n",
    "    References:\n",
    "        -  Related paper:\n",
    "        https://arxiv.org/pdf/1606.08415.pdf\n",
    "\n",
    "    Examples:\n",
    "        >>> m = silu()\n",
    "        >>> input = torch.randn(2)\n",
    "        >>> output = m(input)\n",
    "\n",
    "    '''\n",
    "    def __init__(self):\n",
    "        '''\n",
    "        Init method.\n",
    "        '''\n",
    "        super().__init__() # init the base class\n",
    "\n",
    "    def forward(self, input):\n",
    "        '''\n",
    "        Forward pass of the function.\n",
    "        '''\n",
    "        return silu(input) # simply apply already implemented SiLU"
   ]
  },
  {
   "cell_type": "markdown",
   "metadata": {},
   "source": [
    "Now it's time for a small demo _(don't forget to enable GPU in kernel settings to make training faster)_"
   ]
  },
  {
   "cell_type": "markdown",
   "metadata": {},
   "source": [
    "Here is a small example of building a model with nn.Sequential and out custom SiLU class:"
   ]
  },
  {
   "cell_type": "code",
   "execution_count": 7,
   "metadata": {},
   "outputs": [
    {
     "name": "stdout",
     "output_type": "stream",
     "text": [
      "Training the model. Make sure that loss decreases after each epoch.\n",
      "\n",
      "Training loss: 478.8589185029268\n",
      "Training loss: 350.0746013522148\n",
      "Training loss: 319.25493428111076\n",
      "Training loss: 294.4485657066107\n",
      "Training loss: 280.9470457062125\n"
     ]
    }
   ],
   "source": [
    "# use SiLU with model created with Sequential\n",
    "\n",
    "# initialize activation function\n",
    "activation_function = SiLU()\n",
    "\n",
    "# Initialize the model using nn.Sequential\n",
    "model = nn.Sequential(OrderedDict([\n",
    "                      ('fc1', nn.Linear(784, 256)),\n",
    "                      ('activation1', activation_function), # use SiLU\n",
    "                      ('fc2', nn.Linear(256, 128)),\n",
    "                      ('bn2', nn.BatchNorm1d(num_features=128)),\n",
    "                      ('activation2', activation_function), # use SiLU\n",
    "                      ('dropout', nn.Dropout(0.3)),\n",
    "                      ('fc3', nn.Linear(128, 64)),\n",
    "                      ('bn3', nn.BatchNorm1d(num_features=64)),\n",
    "                      ('activation3', activation_function), # use SiLU\n",
    "                      ('logits', nn.Linear(64, 10)),\n",
    "                      ('logsoftmax', nn.LogSoftmax(dim=1))]))\n",
    "\n",
    "# Run training\n",
    "train_model(model)"
   ]
  },
  {
   "cell_type": "markdown",
   "metadata": {},
   "source": [
    "We can also use silu function in model class as follows:"
   ]
  },
  {
   "cell_type": "code",
   "execution_count": 8,
   "metadata": {},
   "outputs": [
    {
     "name": "stdout",
     "output_type": "stream",
     "text": [
      "Training the model. Make sure that loss decreases after each epoch.\n",
      "\n",
      "Training loss: 466.8241208344698\n",
      "Training loss: 349.4934533312917\n",
      "Training loss: 313.43123760819435\n",
      "Training loss: 293.65521355718374\n",
      "Training loss: 279.42011239379644\n"
     ]
    }
   ],
   "source": [
    "# create class for basic fully-connected deep neural network\n",
    "class ClassifierSiLU(nn.Module):\n",
    "    '''\n",
    "    Demo classifier model class to demonstrate SiLU\n",
    "    '''\n",
    "    def __init__(self):\n",
    "        super().__init__()\n",
    "\n",
    "        # initialize layers\n",
    "        self.fc1 = nn.Linear(784, 256)\n",
    "        self.fc2 = nn.Linear(256, 128)\n",
    "        self.fc3 = nn.Linear(128, 64)\n",
    "        self.fc4 = nn.Linear(64, 10)\n",
    "\n",
    "    def forward(self, x):\n",
    "        # make sure the input tensor is flattened\n",
    "        x = x.view(x.shape[0], -1)\n",
    "\n",
    "        # apply silu function\n",
    "        x = silu(self.fc1(x))\n",
    "\n",
    "        # apply silu function\n",
    "        x = silu(self.fc2(x))\n",
    "        \n",
    "        # apply silu function\n",
    "        x = silu(self.fc3(x))\n",
    "        \n",
    "        x = F.log_softmax(self.fc4(x), dim=1)\n",
    "\n",
    "        return x\n",
    "\n",
    "# Create demo model\n",
    "model = ClassifierSiLU()\n",
    "    \n",
    "# Run training\n",
    "train_model(model)"
   ]
  },
  {
   "cell_type": "markdown",
   "metadata": {},
   "source": [
    "## Implement Activation Function with Learnable Parameters\n",
    "\n",
    "There are lot's of activation functions with parameters, which can be trained with gradient descent while training the model. A great example for one of these is [SoftExponential](https://arxiv.org/pdf/1602.01321.pdf) function:\n",
    "\n",
    "$$SoftExponential(x, \\alpha) = \\left\\{\\begin{matrix} - \\frac{log(1 - \\alpha(x + \\alpha))}{\\alpha}, \\alpha < 0\\\\  x, \\alpha = 0\\\\  \\frac{e^{\\alpha * x} - 1}{\\alpha} + \\alpha, \\alpha > 0 \\end{matrix}\\right.$$"
   ]
  },
  {
   "cell_type": "markdown",
   "metadata": {},
   "source": [
    "Plot (image from wikipedia):"
   ]
  },
  {
   "cell_type": "markdown",
   "metadata": {},
   "source": [
    "![soft exponential plot](https://upload.wikimedia.org/wikipedia/commons/thumb/b/b5/Activation_soft_exponential.svg/2880px-Activation_soft_exponential.svg.png)"
   ]
  },
  {
   "cell_type": "code",
   "execution_count": 9,
   "metadata": {
    "_kg_hide-input": true
   },
   "outputs": [
    {
     "name": "stderr",
     "output_type": "stream",
     "text": [
      "/opt/conda/lib/python3.6/site-packages/ipykernel_launcher.py:6: RuntimeWarning: invalid value encountered in log\n",
      "  \n"
     ]
    },
    {
     "data": {
      "image/png": "[encoded data removed]",
      "text/plain": [
       "<Figure size 720x504 with 1 Axes>"
      ]
     },
     "metadata": {
      "needs_background": "light"
     },
     "output_type": "display_data"
    }
   ],
   "source": [
    "# Soft Exponential\n",
    "def soft_exponential_func(x, alpha):\n",
    "    if alpha == 0.0:\n",
    "        return x\n",
    "    if alpha < 0.0:\n",
    "        return - np.log(1 - alpha * (x + alpha)) / alpha\n",
    "    if alpha > 0.0:\n",
    "        return (np.exp(alpha * x) - 1)/ alpha + alpha\n",
    "\n",
    "fig = plt.figure(figsize=(10,7))\n",
    "ax = plt.axes()\n",
    "\n",
    "plt.title(\"Soft Exponential\")\n",
    "\n",
    "x = np.linspace(-5, 5, 1000)\n",
    "ax.plot(x, soft_exponential_func(x, -1.0), '-g', label = 'Soft Exponential, alpha = -1.0', linestyle = 'dashed');\n",
    "ax.plot(x, soft_exponential_func(x, -0.5), '-g', label = 'Soft Exponential, alpha = -0.5');\n",
    "ax.plot(x, soft_exponential_func(x, 0), '-b', label = 'Soft Exponential, alpha = 0');\n",
    "ax.plot(x, soft_exponential_func(x, 0.5), '-r', label = 'Soft Exponential, alpha = 0.5');\n",
    "\n",
    "plt.legend();"
   ]
  },
  {
   "cell_type": "markdown",
   "metadata": {},
   "source": [
    "To implement an activation function with trainable parameters we have to:\n",
    "* derive a class from nn.Module and make alpha one of its members,\n",
    "* wrap alpha as a Parameter and set requiresGrad to True.\n",
    "\n",
    "See an example:"
   ]
  },
  {
   "cell_type": "code",
   "execution_count": 10,
   "metadata": {},
   "outputs": [],
   "source": [
    "class soft_exponential(nn.Module):\n",
    "    '''\n",
    "    Implementation of soft exponential activation.\n",
    "\n",
    "    Shape:\n",
    "        - Input: (N, *) where * means, any number of additional\n",
    "          dimensions\n",
    "        - Output: (N, *), same shape as the input\n",
    "\n",
    "    Parameters:\n",
    "        - alpha - trainable parameter\n",
    "\n",
    "    References:\n",
    "        - See related paper:\n",
    "        https://arxiv.org/pdf/1602.01321.pdf\n",
    "\n",
    "    Examples:\n",
    "        >>> a1 = soft_exponential(256)\n",
    "        >>> x = torch.randn(256)\n",
    "        >>> x = a1(x)\n",
    "    '''\n",
    "    def __init__(self, in_features, alpha = None):\n",
    "        '''\n",
    "        Initialization.\n",
    "        INPUT:\n",
    "            - in_features: shape of the input\n",
    "            - aplha: trainable parameter\n",
    "            aplha is initialized with zero value by default\n",
    "        '''\n",
    "        super(soft_exponential,self).__init__()\n",
    "        self.in_features = in_features\n",
    "\n",
    "        # initialize alpha\n",
    "        if alpha == None:\n",
    "            self.alpha = Parameter(torch.tensor(0.0)) # create a tensor out of alpha\n",
    "        else:\n",
    "            self.alpha = Parameter(torch.tensor(alpha)) # create a tensor out of alpha\n",
    "            \n",
    "        self.alpha.requiresGrad = True # set requiresGrad to true!\n",
    "\n",
    "    def forward(self, x):\n",
    "        '''\n",
    "        Forward pass of the function.\n",
    "        Applies the function to the input elementwise.\n",
    "        '''\n",
    "        if (self.alpha == 0.0):\n",
    "            return x\n",
    "\n",
    "        if (self.alpha < 0.0):\n",
    "            return - torch.log(1 - self.alpha * (x + self.alpha)) / self.alpha\n",
    "\n",
    "        if (self.alpha > 0.0):\n",
    "            return (torch.exp(self.alpha * x) - 1)/ self.alpha + self.alpha"
   ]
  },
  {
   "cell_type": "markdown",
   "metadata": {},
   "source": [
    "Let's make a small demo: create a simple model, which uses Soft Exponential activation:"
   ]
  },
  {
   "cell_type": "code",
   "execution_count": 11,
   "metadata": {},
   "outputs": [
    {
     "name": "stdout",
     "output_type": "stream",
     "text": [
      "Training the model. Make sure that loss decreases after each epoch.\n",
      "\n",
      "Training loss: 558.482414022088\n",
      "Training loss: 472.3926571011543\n",
      "Training loss: 453.55578088760376\n",
      "Training loss: 438.11303447186947\n",
      "Training loss: 430.5142505913973\n"
     ]
    }
   ],
   "source": [
    "# create class for basic fully-connected deep neural network\n",
    "class ClassifierSExp(nn.Module):\n",
    "    '''\n",
    "    Basic fully-connected network to test Soft Exponential activation.\n",
    "    '''\n",
    "    def __init__(self):\n",
    "        super().__init__()\n",
    "\n",
    "        # initialize layers\n",
    "        self.fc1 = nn.Linear(784, 256)\n",
    "        self.fc2 = nn.Linear(256, 128)\n",
    "        self.fc3 = nn.Linear(128, 64)\n",
    "        self.fc4 = nn.Linear(64, 10)\n",
    "\n",
    "        # initialize Soft Exponential activation\n",
    "        self.a1 = soft_exponential(256)\n",
    "        self.a2 = soft_exponential(128)\n",
    "        self.a3 = soft_exponential(64)\n",
    "\n",
    "    def forward(self, x):\n",
    "        # make sure the input tensor is flattened\n",
    "        x = x.view(x.shape[0], -1)\n",
    "\n",
    "        # apply Soft Exponential unit\n",
    "        x = self.a1(self.fc1(x))\n",
    "        x = self.a2(self.fc2(x))\n",
    "        x = self.a3(self.fc3(x))\n",
    "        x = F.log_softmax(self.fc4(x), dim=1)\n",
    "\n",
    "        return x\n",
    "    \n",
    "model = ClassifierSExp()\n",
    "train_model(model)"
   ]
  },
  {
   "cell_type": "markdown",
   "metadata": {},
   "source": [
    "## Implement Activation Function with Custom Backward Step\n",
    "The perfect example of an activation function, which needs implementation of a custom backward step is [BReLU](https://arxiv.org/pdf/1709.04054.pdf) (Bipolar Rectified Linear Activation Unit):\n",
    "\n",
    "$$BReLU(x_i) = \\left\\{\\begin{matrix} f(x_i), i \\mod 2 = 0\\\\  - f(-x_i), i \\mod 2 \\neq  0 \\end{matrix}\\right.$$\n",
    "\n",
    "This function is not differenciable at 0, so automatic gradient computation may fail.\n",
    "\n",
    "Plot:"
   ]
  },
  {
   "cell_type": "code",
   "execution_count": 12,
   "metadata": {
    "_kg_hide-input": true
   },
   "outputs": [
    {
     "data": {
      "image/png": "[encoded data removed]",
      "text/plain": [
       "<Figure size 720x504 with 1 Axes>"
      ]
     },
     "metadata": {
      "needs_background": "light"
     },
     "output_type": "display_data"
    }
   ],
   "source": [
    "# ReLU function\n",
    "def relu(x):\n",
    "    return (x >= 0) * x\n",
    "# inversed ReLU\n",
    "def inv_relu(x):\n",
    "    return - relu(- x)\n",
    "\n",
    "fig = plt.figure(figsize=(10,7))\n",
    "ax = plt.axes()\n",
    "\n",
    "plt.title(\"BReLU\")\n",
    "\n",
    "x = np.linspace(-5, 5, 1000)\n",
    "ax.plot(x, relu(x), '-g', label = 'BReLU, xi mod 2 = 0');\n",
    "ax.plot(x, inv_relu(x), '-b', label = 'BReLU, xi mod 2 != 0', linestyle='dashed');\n",
    "\n",
    "plt.legend();"
   ]
  },
  {
   "cell_type": "markdown",
   "metadata": {},
   "source": [
    "To impement custom activation function with backward step we should:\n",
    "* create a class which, inherits Function from torch.autograd,\n",
    "* override static forward and backward methods. Forward method just applies the function to the input. Backward method should compute the gradient of the loss function with respect to the input given the gradient of the loss function with respect to the output.\n",
    "\n",
    "Let's see an example for BReLU:"
   ]
  },
  {
   "cell_type": "code",
   "execution_count": 13,
   "metadata": {},
   "outputs": [],
   "source": [
    "class brelu(Function):\n",
    "    '''\n",
    "    Implementation of BReLU activation function.\n",
    "\n",
    "    Shape:\n",
    "        - Input: (N, *) where * means, any number of additional\n",
    "          dimensions\n",
    "        - Output: (N, *), same shape as the input\n",
    "\n",
    "    References:\n",
    "        - See BReLU paper:\n",
    "        https://arxiv.org/pdf/1709.04054.pdf\n",
    "\n",
    "    Examples:\n",
    "        >>> brelu_activation = brelu.apply\n",
    "        >>> t = torch.randn((5,5), dtype=torch.float, requires_grad = True)\n",
    "        >>> t = brelu_activation(t)\n",
    "    '''\n",
    "    #both forward and backward are @staticmethods\n",
    "    @staticmethod\n",
    "    def forward(ctx, input):\n",
    "        \"\"\"\n",
    "        In the forward pass we receive a Tensor containing the input and return\n",
    "        a Tensor containing the output. ctx is a context object that can be used\n",
    "        to stash information for backward computation. You can cache arbitrary\n",
    "        objects for use in the backward pass using the ctx.save_for_backward method.\n",
    "        \"\"\"\n",
    "        ctx.save_for_backward(input) # save input for backward pass\n",
    "\n",
    "        # get lists of odd and even indices\n",
    "        input_shape = input.shape[0]\n",
    "        even_indices = [i for i in range(0, input_shape, 2)]\n",
    "        odd_indices = [i for i in range(1, input_shape, 2)]\n",
    "\n",
    "        # clone the input tensor\n",
    "        output = input.clone()\n",
    "\n",
    "        # apply ReLU to elements where i mod 2 == 0\n",
    "        output[even_indices] = output[even_indices].clamp(min=0)\n",
    "\n",
    "        # apply inversed ReLU to inversed elements where i mod 2 != 0\n",
    "        output[odd_indices] = 0 - output[odd_indices] # reverse elements with odd indices\n",
    "        output[odd_indices] = - output[odd_indices].clamp(min = 0) # apply reversed ReLU\n",
    "\n",
    "        return output\n",
    "\n",
    "    @staticmethod\n",
    "    def backward(ctx, grad_output):\n",
    "        \"\"\"\n",
    "        In the backward pass we receive a Tensor containing the gradient of the loss\n",
    "        with respect to the output, and we need to compute the gradient of the loss\n",
    "        with respect to the input.\n",
    "        \"\"\"\n",
    "        grad_input = None # set output to None\n",
    "\n",
    "        input, = ctx.saved_tensors # restore input from context\n",
    "\n",
    "        # check that input requires grad\n",
    "        # if not requires grad we will return None to speed up computation\n",
    "        if ctx.needs_input_grad[0]:\n",
    "            grad_input = grad_output.clone()\n",
    "\n",
    "            # get lists of odd and even indices\n",
    "            input_shape = input.shape[0]\n",
    "            even_indices = [i for i in range(0, input_shape, 2)]\n",
    "            odd_indices = [i for i in range(1, input_shape, 2)]\n",
    "\n",
    "            # set grad_input for even_indices\n",
    "            grad_input[even_indices] = (input[even_indices] >= 0).float() * grad_input[even_indices]\n",
    "\n",
    "            # set grad_input for odd_indices\n",
    "            grad_input[odd_indices] = (input[odd_indices] < 0).float() * grad_input[odd_indices]\n",
    "\n",
    "        return grad_input"
   ]
  },
  {
   "cell_type": "markdown",
   "metadata": {},
   "source": [
    "Create a simple classifier model for a demonstration and run training:[](http://)"
   ]
  },
  {
   "cell_type": "code",
   "execution_count": 14,
   "metadata": {},
   "outputs": [
    {
     "name": "stdout",
     "output_type": "stream",
     "text": [
      "Training the model. Make sure that loss decreases after each epoch.\n",
      "\n",
      "Training loss: 585.9589667767286\n",
      "Training loss: 442.55006262660027\n",
      "Training loss: 414.7568979859352\n",
      "Training loss: 390.45185139775276\n",
      "Training loss: 372.7816904038191\n"
     ]
    }
   ],
   "source": [
    "class ClassifierBReLU(nn.Module):\n",
    "    '''\n",
    "    Simple fully-connected classifier model to demonstrate BReLU activation.\n",
    "    '''\n",
    "    def __init__(self):\n",
    "        super(ClassifierBReLU, self).__init__()\n",
    "\n",
    "        # initialize layers\n",
    "        self.fc1 = nn.Linear(784, 256)\n",
    "        self.fc2 = nn.Linear(256, 128)\n",
    "        self.fc3 = nn.Linear(128, 64)\n",
    "        self.fc4 = nn.Linear(64, 10)\n",
    "\n",
    "        # create shortcuts for BReLU\n",
    "        self.a1 = brelu.apply\n",
    "        self.a2 = brelu.apply\n",
    "        self.a3 = brelu.apply\n",
    "\n",
    "    def forward(self, x):\n",
    "        # make sure the input tensor is flattened\n",
    "        x = x.view(x.shape[0], -1)\n",
    "\n",
    "        # apply BReLU\n",
    "        x = self.a1(self.fc1(x))\n",
    "        x = self.a2(self.fc2(x))\n",
    "        x = self.a3(self.fc3(x))\n",
    "        x = F.log_softmax(self.fc4(x), dim=1)\n",
    "        \n",
    "        return x\n",
    "    \n",
    "model = ClassifierBReLU()\n",
    "train_model(model)"
   ]
  },
  {
   "cell_type": "markdown",
   "metadata": {},
   "source": [
    "## Conclusion\n",
    "In this tutorial I demonstrated:\n",
    "* How to create a simple custom activation function,\n",
    "* How to create an activation function with learnable parameters, which can be trained using gradient descent,\n",
    "* How to create an activation function with custom backward step."
   ]
  },
  {
   "cell_type": "markdown",
   "metadata": {},
   "source": [
    "## Improvement\n",
    "While building a lot of custom activation functions, I noticed, that they often consume much more GPU memory. Creation of inplace implementations of custom activations using PyTorch inplace methods will improve this situation."
   ]
  },
  {
   "cell_type": "markdown",
   "metadata": {},
   "source": [
    "## Additional References\n",
    "Links to the additional resources and further reading:\n",
    "1. [Activation functions wiki page](https://en.wikipedia.org/wiki/Activation_function)\n",
    "2. [Tutorial on extending PyTorch](https://pytorch.org/docs/master/notes/extending.html)\n",
    "3. [Implementation of Maxout in PyTorch](https://github.com/Usama113/Maxout-PyTorch/blob/master/Maxout.ipynb)\n",
    "4. [PyTorch Comprehensive Overview](https://medium.com/@layog/a-comprehensive-overview-of-pytorch-7f70b061963f)\n",
    "5. [PyTorch and Fashion MNIST Kernel](https://www.kaggle.com/arturlacerda/pytorch-conditional-gan) I copied some code to load the data"
   ]
  },
  {
   "cell_type": "markdown",
   "metadata": {},
   "source": [
    "## PS\n",
    "![echo logo](https://github.com/Lexie88rus/Activation-functions-examples-pytorch/blob/master/assets/echo_logo.png?raw=true)\n",
    "\n",
    "I participate in implementation of a __Echo package__ with mathematical backend for neural networks, which can be used with most popular existing packages (TensorFlow, Keras and [PyTorch](https://pytorch.org/)). We have done a lot for activation functions for PyTorch so far. Here is a [link to a repository on GitHub](https://github.com/digantamisra98/Echo/tree/Dev-adeis), __I will highly appreciate your feedback__ on that."
   ]
  }
 ],
 "metadata": {
  "kernelspec": {
   "display_name": "Python 3",
   "language": "python",
   "name": "python3"
  },
  "language_info": {
   "codemirror_mode": {
    "name": "ipython",
    "version": 3
   },
   "file_extension": ".py",
   "mimetype": "text/x-python",
   "name": "python",
   "nbconvert_exporter": "python",
   "pygments_lexer": "ipython3",
   "version": "3.6.6"
  }
 },
 "nbformat": 4,
 "nbformat_minor": 1
}
