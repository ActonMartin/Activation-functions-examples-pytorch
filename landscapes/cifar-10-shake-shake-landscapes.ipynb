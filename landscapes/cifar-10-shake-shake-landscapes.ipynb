{
 "cells": [
  {
   "cell_type": "code",
   "execution_count": 1,
   "metadata": {
    "_kg_hide-input": true
   },
   "outputs": [
    {
     "name": "stdout",
     "output_type": "stream",
     "text": [
      "Collecting torchsummary\r\n",
      "  Downloading https://files.pythonhosted.org/packages/7d/18/1474d06f721b86e6a9b9d7392ad68bed711a02f3b61ac43f13c719db50a6/torchsummary-1.5.1-py3-none-any.whl\r\n",
      "Installing collected packages: torchsummary\r\n",
      "Successfully installed torchsummary-1.5.1\r\n"
     ]
    }
   ],
   "source": [
    "! pip install torchsummary"
   ]
  },
  {
   "cell_type": "code",
   "execution_count": 2,
   "metadata": {
    "_cell_guid": "b1076dfc-b9ad-4769-8c92-a6c4dae69d19",
    "_uuid": "8f2839f25d086af736a60e9eeb907d3b93b6e0e5"
   },
   "outputs": [],
   "source": [
    "import numpy as np # linear algebra\n",
    "import pandas as pd # data processing, CSV file I/O (e.g. pd.read_csv)\n",
    "import math\n",
    "import argparse,copy,h5py, os,sys,time,socket\n",
    "import tensorflow as tf\n",
    "\n",
    "# import pytorch\n",
    "import torch\n",
    "import torch.nn as nn\n",
    "import torch.nn.functional as F\n",
    "from torch.optim import SGD,Adam,lr_scheduler\n",
    "from torch.utils.data import random_split\n",
    "import torchvision\n",
    "from torchvision import transforms, datasets\n",
    "from torch.utils.data import DataLoader\n",
    "from torchsummary import summary\n",
    "from torch.autograd.variable import Variable\n",
    "\n",
    "import plotly.plotly as py\n",
    "import plotly.graph_objs as go\n",
    "from plotly.offline import download_plotlyjs, init_notebook_mode, plot, iplot\n",
    "from mpl_toolkits.mplot3d import Axes3D  \n",
    "import matplotlib.pyplot as plt\n",
    "from matplotlib import ticker,colors"
   ]
  },
  {
   "cell_type": "code",
   "execution_count": 3,
   "metadata": {},
   "outputs": [],
   "source": [
    "# define transformations for train\n",
    "train_transform = transforms.Compose([\n",
    "    transforms.RandomHorizontalFlip(p=.40),\n",
    "    transforms.RandomRotation(30),\n",
    "    transforms.ToTensor(),\n",
    "    transforms.Normalize([0.5, 0.5, 0.5], [0.5, 0.5, 0.5])])\n",
    "\n",
    "# define transformations for test\n",
    "test_transform = transforms.Compose([\n",
    "    transforms.ToTensor(),\n",
    "    transforms.Normalize([0.5, 0.5, 0.5], [0.5, 0.5, 0.5])])\n",
    "\n",
    "# define training dataloader\n",
    "def get_training_dataloader(train_transform, batch_size=128, num_workers=0, shuffle=True):\n",
    "    \"\"\" return training dataloader\n",
    "    Args:\n",
    "        train_transform: transfroms for train dataset\n",
    "        path: path to cifar100 training python dataset\n",
    "        batch_size: dataloader batchsize\n",
    "        num_workers: dataloader num_works\n",
    "        shuffle: whether to shuffle \n",
    "    Returns: train_data_loader:torch dataloader object\n",
    "    \"\"\"\n",
    "\n",
    "    transform_train = train_transform\n",
    "    cifar10_training = torchvision.datasets.CIFAR10(root='.', train=True, download=True, transform=transform_train)\n",
    "    cifar10_training_loader = DataLoader(\n",
    "        cifar10_training, shuffle=shuffle, num_workers=num_workers, batch_size=batch_size)\n",
    "\n",
    "    return cifar10_training_loader\n",
    "\n",
    "# define test dataloader\n",
    "def get_testing_dataloader(test_transform, batch_size=128, num_workers=0, shuffle=True):\n",
    "    \"\"\" return training dataloader\n",
    "    Args:\n",
    "        test_transform: transforms for test dataset\n",
    "        path: path to cifar100 test python dataset\n",
    "        batch_size: dataloader batchsize\n",
    "        num_workers: dataloader num_works\n",
    "        shuffle: whether to shuffle \n",
    "    Returns: cifar100_test_loader:torch dataloader object\n",
    "    \"\"\"\n",
    "\n",
    "    transform_test = test_transform\n",
    "    cifar10_test = torchvision.datasets.CIFAR10(root='.', train=False, download=True, transform=transform_test)\n",
    "    cifar10_test_loader = DataLoader(\n",
    "        cifar10_test, shuffle=shuffle, num_workers=num_workers, batch_size=batch_size)\n",
    "\n",
    "    return cifar10_test_loader"
   ]
  },
  {
   "cell_type": "code",
   "execution_count": 4,
   "metadata": {},
   "outputs": [],
   "source": [
    "# implement mish activation function\n",
    "def f_mish(input):\n",
    "    '''\n",
    "    Applies the mish function element-wise:\n",
    "    mish(x) = x * tanh(softplus(x)) = x * tanh(ln(1 + exp(x)))\n",
    "    '''\n",
    "    return input * torch.tanh(F.softplus(input))\n",
    "\n",
    "# implement class wrapper for mish activation function\n",
    "class mish(nn.Module):\n",
    "    '''\n",
    "    Applies the mish function element-wise:\n",
    "    mish(x) = x * tanh(softplus(x)) = x * tanh(ln(1 + exp(x)))\n",
    "\n",
    "    Shape:\n",
    "        - Input: (N, *) where * means, any number of additional\n",
    "          dimensions\n",
    "        - Output: (N, *), same shape as the input\n",
    "\n",
    "    Examples:\n",
    "        >>> m = mish()\n",
    "        >>> input = torch.randn(2)\n",
    "        >>> output = m(input)\n",
    "\n",
    "    '''\n",
    "    def __init__(self):\n",
    "        '''\n",
    "        Init method.\n",
    "        '''\n",
    "        super().__init__()\n",
    "\n",
    "    def forward(self, input):\n",
    "        '''\n",
    "        Forward pass of the function.\n",
    "        '''\n",
    "        return f_mish(input)"
   ]
  },
  {
   "cell_type": "code",
   "execution_count": 5,
   "metadata": {},
   "outputs": [],
   "source": [
    "# implement swish activation function\n",
    "def f_swish(input):\n",
    "    '''\n",
    "    Applies the swish function element-wise:\n",
    "    swish(x) = x * sigmoid(x)\n",
    "    '''\n",
    "    return input * torch.sigmoid(input)\n",
    "\n",
    "# implement class wrapper for swish activation function\n",
    "class swish(nn.Module):\n",
    "    '''\n",
    "    Applies the swish function element-wise:\n",
    "    swish(x) = x * sigmoid(x)\n",
    "\n",
    "    Shape:\n",
    "        - Input: (N, *) where * means, any number of additional\n",
    "          dimensions\n",
    "        - Output: (N, *), same shape as the input\n",
    "\n",
    "    Examples:\n",
    "        >>> m = swish()\n",
    "        >>> input = torch.randn(2)\n",
    "        >>> output = m(input)\n",
    "\n",
    "    '''\n",
    "    def __init__(self):\n",
    "        '''\n",
    "        Init method.\n",
    "        '''\n",
    "        super().__init__()\n",
    "\n",
    "    def forward(self, input):\n",
    "        '''\n",
    "        Forward pass of the function.\n",
    "        '''\n",
    "        return f_swish(input)"
   ]
  },
  {
   "cell_type": "code",
   "execution_count": 6,
   "metadata": {},
   "outputs": [],
   "source": [
    "# see https://pytorch.org/tutorials/beginner/examples_autograd/two_layer_net_custom_function.html\n",
    "# see https://discuss.pytorch.org/t/why-input-is-tensor-in-the-forward-function-when-extending-torch-autograd/9039\n",
    "class ShakeShake(torch.autograd.Function):\n",
    "    @staticmethod\n",
    "    def forward(ctx, input1, input2, alpha, beta=None):\n",
    "        ctx.save_for_backward(input1, input2, alpha, beta)\n",
    "        out = alpha * input1 + (1 - alpha) * input2\n",
    "        return out\n",
    "\n",
    "    @staticmethod\n",
    "    def backward(ctx, grad_output):\n",
    "        input1, input2, alpha, beta = ctx.saved_tensors\n",
    "        grad_input1 = beta * grad_output\n",
    "        grad_input2 = (1 - beta) * grad_output\n",
    "        return grad_input1, grad_input2, None, None\n",
    "\n",
    "\n",
    "class SkippingBranch(nn.Module):\n",
    "    def __init__(self, inplanes, stride=2):\n",
    "        super(SkippingBranch, self).__init__()\n",
    "        self.conv1 = nn.Conv2d(inplanes, inplanes, kernel_size=1, stride=1, \n",
    "                              padding=0, bias=False)\n",
    "        self.conv2 = nn.Conv2d(inplanes, inplanes, kernel_size=1, stride=1, \n",
    "                              padding=0, bias=False)\n",
    "        self.avg_pool = nn.AvgPool2d(kernel_size=1, stride=stride, padding=0)    \n",
    "\n",
    "    def forward(self, x):\n",
    "        out1 = self.conv1(self.avg_pool(x))\n",
    "        shift_x = x[:, :, 1:, 1:]\n",
    "        shift_x= F.pad(shift_x, (0, 1, 0, 1))\n",
    "        out2 = self.conv2(self.avg_pool(shift_x))\n",
    "        out = torch.cat([out1, out2], dim=1)\n",
    "        return out\n",
    "\n",
    "\n",
    "class ResidualBranch(nn.Module):\n",
    "    def __init__(self, inplanes, planes, stride=1):\n",
    "        super(ResidualBranch, self).__init__()\n",
    "        self.conv1 = nn.Conv2d(inplanes, planes, kernel_size=3, \n",
    "                               stride=stride, padding=1, bias=False) \n",
    "        self.bn1 = nn.BatchNorm2d(planes)\n",
    "        self.conv2 = nn.Conv2d(planes, planes, kernel_size=3, \n",
    "                               stride=1, padding=1, bias=False) \n",
    "        self.bn2 = nn.BatchNorm2d(planes)\n",
    "\n",
    "    def forward(self, x):\n",
    "        out = self.bn1(self.conv1(F.relu(x, inplace=False)))\n",
    "        out = self.bn2(self.conv2(F.relu(out, inplace=False)))\n",
    "        return out\n",
    "\n",
    "\n",
    "class ShakeBlock(nn.Module):\n",
    "    def __init__(self, inplanes, planes, stride=1):\n",
    "        super(ShakeBlock, self).__init__()\n",
    "        self.residual_branch1 = ResidualBranch(inplanes, planes, stride)\n",
    "        self.residual_branch2 = ResidualBranch(inplanes, planes, stride)\n",
    "\n",
    "        if inplanes != planes:\n",
    "            self.skipping_branch = SkippingBranch(inplanes, stride)\n",
    "        else:\n",
    "            self.skipping_branch = nn.Sequential()\n",
    "\n",
    "        self.shake_shake = ShakeShake.apply\n",
    "\n",
    "    def forward(self, x):\n",
    "        residual = x\n",
    "        out1 = self.residual_branch1(x)\n",
    "        out2 = self.residual_branch2(x)\n",
    "        \n",
    "        batch_size = out1.size(0)\n",
    "        if self.training:        \n",
    "            alpha = torch.rand(batch_size).to(device)\n",
    "            beta = torch.rand(batch_size).to(device)\n",
    "            beta = beta.view(batch_size, 1, 1, 1)\n",
    "            alpha = alpha.view(batch_size, 1, 1, 1)\n",
    "            out = self.shake_shake(out1, out2, alpha, beta)\n",
    "        else:\n",
    "            alpha = torch.Tensor([0.5]).to(device)\n",
    "            out = self.shake_shake(out1, out2, alpha)\n",
    "\n",
    "        skip = self.skipping_branch(residual)\n",
    "        return out + skip\n",
    "\n",
    "\n",
    "class ShakeResNet(nn.Module):\n",
    "    def __init__(self, block, num_classes=10, activation = 'relu'):\n",
    "        super(ShakeResNet, self).__init__()\n",
    "        self.inplanes = 16\n",
    "        self.conv1 = nn.Conv2d(3, 16, kernel_size=3, stride=1, \n",
    "                               padding=1, bias=False)\n",
    "        self.bn1 = nn.BatchNorm2d(16)\n",
    "        \n",
    "        if (activation == 'relu'):\n",
    "            self.relu = nn.ReLU(inplace=True)\n",
    "        if (activation == 'swish'):\n",
    "            self.relu = swish()\n",
    "        if (activation == 'mish'):\n",
    "            self.relu = mish()\n",
    "\n",
    "        self.stage1 = self._make_stage(block, 32, 4, stride=1)\n",
    "        self.stage2 = self._make_stage(block, 64, 4, stride=2) \n",
    "        self.stage3 = self._make_stage(block, 128, 4, stride=2)  \n",
    "        self.avg_pool = nn.AvgPool2d(8, stride=1)\n",
    "        self.fc_out = nn.Linear(128, num_classes)\n",
    "\n",
    "        for m in self.modules():\n",
    "            if isinstance(m, nn.Conv2d):\n",
    "                nn.init.kaiming_normal_(m.weight, mode='fan_out', \n",
    "                                        nonlinearity='relu')\n",
    "            elif isinstance(m, nn.BatchNorm2d):\n",
    "                nn.init.constant_(m.weight, 1)\n",
    "                nn.init.constant_(m.bias, 0)\n",
    "\n",
    "    def _make_stage(self, block, planes, blocks, stride=1):\n",
    "        layers = []\n",
    "        layers.append(block(self.inplanes, planes, stride))\n",
    "        self.inplanes = planes\n",
    "        for i in range(1, blocks):\n",
    "            layers.append(block(self.inplanes, planes))\n",
    "        return nn.Sequential(*layers)\n",
    "\n",
    "    def forward(self, x):\n",
    "        x = self.relu(self.bn1(self.conv1(x)))\n",
    "\n",
    "        x = self.stage1(x)\n",
    "        x = self.stage2(x)\n",
    "        x = self.stage3(x)\n",
    "\n",
    "        x = self.avg_pool(x)\n",
    "        x = x.view(x.size(0), -1)\n",
    "        x = self.fc_out(x)\n",
    "        return x\n",
    "\n",
    "\n",
    "def shake_shake(activation = 'relu', **kwargs):\n",
    "    model = ShakeResNet(ShakeBlock, activation = activation, **kwargs) \n",
    "    return model"
   ]
  },
  {
   "cell_type": "code",
   "execution_count": 7,
   "metadata": {},
   "outputs": [
    {
     "name": "stderr",
     "output_type": "stream",
     "text": [
      "0it [00:00, ?it/s]"
     ]
    },
    {
     "name": "stdout",
     "output_type": "stream",
     "text": [
      "Downloading https://www.cs.toronto.edu/~kriz/cifar-10-python.tar.gz to ./cifar-10-python.tar.gz\n"
     ]
    },
    {
     "name": "stderr",
     "output_type": "stream",
     "text": [
      "170500096it [00:06, 28180487.19it/s]                               \n"
     ]
    },
    {
     "name": "stdout",
     "output_type": "stream",
     "text": [
      "Files already downloaded and verified\n"
     ]
    }
   ],
   "source": [
    "trainloader = get_training_dataloader(train_transform)\n",
    "testloader = get_testing_dataloader(test_transform)"
   ]
  },
  {
   "cell_type": "code",
   "execution_count": 8,
   "metadata": {},
   "outputs": [
    {
     "data": {
      "text/plain": [
       "device(type='cuda', index=0)"
      ]
     },
     "execution_count": 8,
     "metadata": {},
     "output_type": "execute_result"
    }
   ],
   "source": [
    "epochs = 30\n",
    "batch_size = 128\n",
    "learning_rate = 0.001\n",
    "device = torch.device('cuda:0' if torch.cuda.is_available() else \"cpu\")\n",
    "device"
   ]
  },
  {
   "cell_type": "code",
   "execution_count": 9,
   "metadata": {},
   "outputs": [],
   "source": [
    "model_relu = shake_shake(activation = 'relu') # Shake-shake ReLU\n",
    "model_swish = shake_shake(activation = 'swish') # Shake-shake Swish\n",
    "model_mish = shake_shake(activation = 'mish') # Shake-shake Mish"
   ]
  },
  {
   "cell_type": "code",
   "execution_count": 10,
   "metadata": {},
   "outputs": [],
   "source": [
    "# set loss function\n",
    "criterion = nn.CrossEntropyLoss()\n",
    "\n",
    "# set optimizer, only train the classifier parameters, feature parameters are frozen\n",
    "optimizer_relu = Adam(model_relu.parameters(), lr=learning_rate)\n",
    "optimizer_swish = Adam(model_swish.parameters(), lr=learning_rate)\n",
    "optimizer_mish = Adam(model_mish.parameters(), lr=learning_rate)"
   ]
  },
  {
   "cell_type": "code",
   "execution_count": 11,
   "metadata": {},
   "outputs": [],
   "source": [
    "train_stats = pd.DataFrame(columns = ['Epoch', 'Time per epoch', 'Avg time per step', 'Train loss', 'Train accuracy', 'Train top-3 accuracy','Test loss', 'Test accuracy', 'Test top-3 accuracy']) "
   ]
  },
  {
   "cell_type": "code",
   "execution_count": 12,
   "metadata": {},
   "outputs": [],
   "source": [
    "def train(model, device, epochs, trainloader, testloader, criterion, optimizer, train_stats):\n",
    "    #train the model\n",
    "    model.to(device)\n",
    "\n",
    "    steps = 0\n",
    "    running_loss = 0\n",
    "    for epoch in range(epochs):\n",
    "\n",
    "        since = time.time()\n",
    "\n",
    "        train_accuracy = 0\n",
    "        top3_train_accuracy = 0 \n",
    "        for inputs, labels in trainloader:\n",
    "            steps += 1\n",
    "            # Move input and label tensors to the default device\n",
    "            inputs, labels = inputs.to(device), labels.to(device)\n",
    "\n",
    "            optimizer.zero_grad()\n",
    "\n",
    "            logps = model.forward(inputs)\n",
    "            loss = criterion(logps, labels)\n",
    "            loss.backward()\n",
    "            optimizer.step()\n",
    "\n",
    "            running_loss += loss.item()\n",
    "\n",
    "            # calculate train top-1 accuracy\n",
    "            ps = torch.exp(logps)\n",
    "            top_p, top_class = ps.topk(1, dim=1)\n",
    "            equals = top_class == labels.view(*top_class.shape)\n",
    "            train_accuracy += torch.mean(equals.type(torch.FloatTensor)).item()\n",
    "\n",
    "            # Calculate train top-3 accuracy\n",
    "            np_top3_class = ps.topk(3, dim=1)[1].cpu().numpy()\n",
    "            target_numpy = labels.cpu().numpy()\n",
    "            top3_train_accuracy += np.mean([1 if target_numpy[i] in np_top3_class[i] else 0 for i in range(0, len(target_numpy))])\n",
    "\n",
    "        time_elapsed = time.time() - since\n",
    "\n",
    "        test_loss = 0\n",
    "        test_accuracy = 0\n",
    "        top3_test_accuracy = 0\n",
    "        model.eval()\n",
    "        with torch.no_grad():\n",
    "            for inputs, labels in testloader:\n",
    "                inputs, labels = inputs.to(device), labels.to(device)\n",
    "                logps = model.forward(inputs)\n",
    "                batch_loss = criterion(logps, labels)\n",
    "\n",
    "                test_loss += batch_loss.item()\n",
    "\n",
    "                # Calculate test top-1 accuracy\n",
    "                ps = torch.exp(logps)\n",
    "                top_p, top_class = ps.topk(1, dim=1)\n",
    "                equals = top_class == labels.view(*top_class.shape)\n",
    "                test_accuracy += torch.mean(equals.type(torch.FloatTensor)).item()\n",
    "\n",
    "                # Calculate test top-3 accuracy\n",
    "                np_top3_class = ps.topk(3, dim=1)[1].cpu().numpy()\n",
    "                target_numpy = labels.cpu().numpy()\n",
    "                top3_test_accuracy += np.mean([1 if target_numpy[i] in np_top3_class[i] else 0 for i in range(0, len(target_numpy))])\n",
    "\n",
    "        print(f\"Epoch {epoch+1}/{epochs}.. \"\n",
    "              f\"Time per epoch: {time_elapsed:.4f}.. \"\n",
    "              f\"Average time per step: {time_elapsed/len(trainloader):.4f}.. \"\n",
    "              f\"Train loss: {running_loss/len(trainloader):.4f}.. \"\n",
    "              f\"Train accuracy: {train_accuracy/len(trainloader):.4f}.. \"\n",
    "              f\"Top-3 train accuracy: {top3_train_accuracy/len(trainloader):.4f}.. \"\n",
    "              f\"Test loss: {test_loss/len(testloader):.4f}.. \"\n",
    "              f\"Test accuracy: {test_accuracy/len(testloader):.4f}.. \"\n",
    "              f\"Top-3 test accuracy: {top3_test_accuracy/len(testloader):.4f}\")\n",
    "\n",
    "        train_stats = train_stats.append({'Epoch': epoch, 'Time per epoch':time_elapsed, 'Avg time per step': time_elapsed/len(trainloader), 'Train loss' : running_loss/len(trainloader), 'Train accuracy': train_accuracy/len(trainloader), 'Train top-3 accuracy':top3_train_accuracy/len(trainloader),'Test loss' : test_loss/len(testloader), 'Test accuracy': test_accuracy/len(testloader), 'Test top-3 accuracy':top3_test_accuracy/len(testloader)}, ignore_index=True)\n",
    "\n",
    "        running_loss = 0\n",
    "        model.train()\n",
    "\n",
    "    return model, train_stats"
   ]
  },
  {
   "cell_type": "code",
   "execution_count": 13,
   "metadata": {},
   "outputs": [],
   "source": [
    "#  Get the weights - after training\n",
    "def get_weights(net):\n",
    "    return [p.data for p in net.parameters()]\n",
    "\n",
    "def get_random_weights(weights):\n",
    "    return [torch.randn(w.size()) for w in weights]\n",
    "\n",
    "def normalize_direction(direction, weights,norm='layer'):\n",
    "    if norm == 'filter':\n",
    "        # Rescale the filters (weights in group) in 'direction' so that each filter has the same norm as its corresponding filter in 'weights'.\n",
    "        for d, w in zip(direction, weights): \n",
    "            # the direction channel gets norm via the channel\n",
    "            d.mul_(w.norm()/(d.norm() + 1e-10))\n",
    "\n",
    "    elif norm == 'layer':\n",
    "        # Rescale the layer variables in the direction so that each layer has the same norm as the layer variables in weights.\n",
    "        direction.mul_(weights.norm()/direction.norm())\n",
    "\n",
    "    elif norm == 'weight':\n",
    "        # Rescale the entries in the direction so that each entry has the same scale as the corresponding weight.\n",
    "        direction.mul_(weights.cpu())\n",
    "\n",
    "    elif norm == 'dfilter':\n",
    "        # Rescale the entries in the direction so that each filter direction has the unit norm.\n",
    "        for d in direction: \n",
    "            d.div_(d.norm() + 1e-10)\n",
    "\n",
    "    elif norm == 'dlayer':\n",
    "        # Rescale the entries in the direction so that each layer direction has the unit norm.\n",
    "        direction.div_(direction.norm())"
   ]
  },
  {
   "cell_type": "code",
   "execution_count": 14,
   "metadata": {},
   "outputs": [],
   "source": [
    "def get_weights_mod(net):\n",
    "    weight = get_weights(net)\n",
    "    temp_layer  = 0\n",
    "    for x in weight: \n",
    "        temp_layer = temp_layer + 1\n",
    "        print(str(temp_layer) + \" layer \" + str(x.shape))"
   ]
  },
  {
   "cell_type": "code",
   "execution_count": 15,
   "metadata": {},
   "outputs": [],
   "source": [
    "weight_relu = get_weights(model_relu)"
   ]
  },
  {
   "cell_type": "code",
   "execution_count": 16,
   "metadata": {},
   "outputs": [],
   "source": [
    "weight_swish = get_weights(model_swish)"
   ]
  },
  {
   "cell_type": "code",
   "execution_count": 17,
   "metadata": {},
   "outputs": [],
   "source": [
    "weight_mish = get_weights(model_mish)"
   ]
  },
  {
   "cell_type": "code",
   "execution_count": 18,
   "metadata": {
    "_kg_hide-output": true
   },
   "outputs": [
    {
     "name": "stdout",
     "output_type": "stream",
     "text": [
      "Epoch 1/30.. Time per epoch: 55.3393.. Average time per step: 0.1415.. Train loss: 1.6384.. Train accuracy: 0.4045.. Top-3 train accuracy: 0.7454.. Test loss: 1.4047.. Test accuracy: 0.4949.. Top-3 test accuracy: 0.8234\n",
      "Epoch 2/30.. Time per epoch: 54.2400.. Average time per step: 0.1387.. Train loss: 1.2978.. Train accuracy: 0.5326.. Top-3 train accuracy: 0.8421.. Test loss: 1.1112.. Test accuracy: 0.6082.. Top-3 test accuracy: 0.8804\n",
      "Epoch 3/30.. Time per epoch: 54.3635.. Average time per step: 0.1390.. Train loss: 1.1488.. Train accuracy: 0.5879.. Top-3 train accuracy: 0.8735.. Test loss: 0.9443.. Test accuracy: 0.6657.. Top-3 test accuracy: 0.9128\n",
      "Epoch 4/30.. Time per epoch: 54.0515.. Average time per step: 0.1382.. Train loss: 1.0395.. Train accuracy: 0.6309.. Top-3 train accuracy: 0.8954.. Test loss: 0.8540.. Test accuracy: 0.7016.. Top-3 test accuracy: 0.9250\n",
      "Epoch 5/30.. Time per epoch: 54.3063.. Average time per step: 0.1389.. Train loss: 0.9644.. Train accuracy: 0.6583.. Top-3 train accuracy: 0.9058.. Test loss: 0.7664.. Test accuracy: 0.7238.. Top-3 test accuracy: 0.9403\n",
      "Epoch 6/30.. Time per epoch: 53.7061.. Average time per step: 0.1374.. Train loss: 0.9020.. Train accuracy: 0.6819.. Top-3 train accuracy: 0.9167.. Test loss: 0.7243.. Test accuracy: 0.7471.. Top-3 test accuracy: 0.9419\n",
      "Epoch 7/30.. Time per epoch: 53.6455.. Average time per step: 0.1372.. Train loss: 0.8475.. Train accuracy: 0.7030.. Top-3 train accuracy: 0.9242.. Test loss: 0.6792.. Test accuracy: 0.7632.. Top-3 test accuracy: 0.9507\n",
      "Epoch 8/30.. Time per epoch: 53.8911.. Average time per step: 0.1378.. Train loss: 0.7912.. Train accuracy: 0.7221.. Top-3 train accuracy: 0.9322.. Test loss: 0.6137.. Test accuracy: 0.7871.. Top-3 test accuracy: 0.9547\n",
      "Epoch 9/30.. Time per epoch: 53.9962.. Average time per step: 0.1381.. Train loss: 0.7584.. Train accuracy: 0.7349.. Top-3 train accuracy: 0.9383.. Test loss: 0.5824.. Test accuracy: 0.7955.. Top-3 test accuracy: 0.9610\n",
      "Epoch 10/30.. Time per epoch: 54.8582.. Average time per step: 0.1403.. Train loss: 0.7275.. Train accuracy: 0.7461.. Top-3 train accuracy: 0.9414.. Test loss: 0.5488.. Test accuracy: 0.8109.. Top-3 test accuracy: 0.9614\n",
      "Epoch 11/30.. Time per epoch: 54.6234.. Average time per step: 0.1397.. Train loss: 0.6865.. Train accuracy: 0.7585.. Top-3 train accuracy: 0.9462.. Test loss: 0.5347.. Test accuracy: 0.8154.. Top-3 test accuracy: 0.9641\n",
      "Epoch 12/30.. Time per epoch: 54.6110.. Average time per step: 0.1397.. Train loss: 0.6648.. Train accuracy: 0.7666.. Top-3 train accuracy: 0.9481.. Test loss: 0.5293.. Test accuracy: 0.8190.. Top-3 test accuracy: 0.9643\n",
      "Epoch 13/30.. Time per epoch: 54.5055.. Average time per step: 0.1394.. Train loss: 0.6460.. Train accuracy: 0.7750.. Top-3 train accuracy: 0.9505.. Test loss: 0.4993.. Test accuracy: 0.8235.. Top-3 test accuracy: 0.9692\n",
      "Epoch 14/30.. Time per epoch: 54.2884.. Average time per step: 0.1388.. Train loss: 0.6196.. Train accuracy: 0.7847.. Top-3 train accuracy: 0.9547.. Test loss: 0.4898.. Test accuracy: 0.8302.. Top-3 test accuracy: 0.9726\n",
      "Epoch 15/30.. Time per epoch: 54.7460.. Average time per step: 0.1400.. Train loss: 0.6043.. Train accuracy: 0.7897.. Top-3 train accuracy: 0.9563.. Test loss: 0.4644.. Test accuracy: 0.8396.. Top-3 test accuracy: 0.9716\n",
      "Epoch 16/30.. Time per epoch: 54.6419.. Average time per step: 0.1397.. Train loss: 0.5827.. Train accuracy: 0.7982.. Top-3 train accuracy: 0.9596.. Test loss: 0.5094.. Test accuracy: 0.8258.. Top-3 test accuracy: 0.9688\n",
      "Epoch 17/30.. Time per epoch: 54.5475.. Average time per step: 0.1395.. Train loss: 0.5509.. Train accuracy: 0.8079.. Top-3 train accuracy: 0.9622.. Test loss: 0.4685.. Test accuracy: 0.8387.. Top-3 test accuracy: 0.9756\n",
      "Epoch 18/30.. Time per epoch: 54.5115.. Average time per step: 0.1394.. Train loss: 0.5476.. Train accuracy: 0.8095.. Top-3 train accuracy: 0.9631.. Test loss: 0.4151.. Test accuracy: 0.8554.. Top-3 test accuracy: 0.9782\n",
      "Epoch 19/30.. Time per epoch: 54.5615.. Average time per step: 0.1395.. Train loss: 0.5280.. Train accuracy: 0.8171.. Top-3 train accuracy: 0.9648.. Test loss: 0.4189.. Test accuracy: 0.8596.. Top-3 test accuracy: 0.9750\n",
      "Epoch 20/30.. Time per epoch: 55.0848.. Average time per step: 0.1409.. Train loss: 0.5155.. Train accuracy: 0.8216.. Top-3 train accuracy: 0.9661.. Test loss: 0.4328.. Test accuracy: 0.8543.. Top-3 test accuracy: 0.9751\n",
      "Epoch 21/30.. Time per epoch: 54.5230.. Average time per step: 0.1394.. Train loss: 0.5051.. Train accuracy: 0.8254.. Top-3 train accuracy: 0.9673.. Test loss: 0.4065.. Test accuracy: 0.8621.. Top-3 test accuracy: 0.9787\n",
      "Epoch 22/30.. Time per epoch: 54.6709.. Average time per step: 0.1398.. Train loss: 0.4854.. Train accuracy: 0.8319.. Top-3 train accuracy: 0.9694.. Test loss: 0.3835.. Test accuracy: 0.8693.. Top-3 test accuracy: 0.9788\n",
      "Epoch 23/30.. Time per epoch: 54.3744.. Average time per step: 0.1391.. Train loss: 0.4846.. Train accuracy: 0.8312.. Top-3 train accuracy: 0.9707.. Test loss: 0.3679.. Test accuracy: 0.8724.. Top-3 test accuracy: 0.9804\n",
      "Epoch 24/30.. Time per epoch: 54.6961.. Average time per step: 0.1399.. Train loss: 0.4700.. Train accuracy: 0.8347.. Top-3 train accuracy: 0.9723.. Test loss: 0.3710.. Test accuracy: 0.8726.. Top-3 test accuracy: 0.9818\n",
      "Epoch 25/30.. Time per epoch: 55.2121.. Average time per step: 0.1412.. Train loss: 0.4510.. Train accuracy: 0.8420.. Top-3 train accuracy: 0.9735.. Test loss: 0.3725.. Test accuracy: 0.8678.. Top-3 test accuracy: 0.9814\n",
      "Epoch 26/30.. Time per epoch: 54.8718.. Average time per step: 0.1403.. Train loss: 0.4408.. Train accuracy: 0.8471.. Top-3 train accuracy: 0.9741.. Test loss: 0.3791.. Test accuracy: 0.8737.. Top-3 test accuracy: 0.9803\n",
      "Epoch 27/30.. Time per epoch: 54.6241.. Average time per step: 0.1397.. Train loss: 0.4323.. Train accuracy: 0.8483.. Top-3 train accuracy: 0.9757.. Test loss: 0.3834.. Test accuracy: 0.8709.. Top-3 test accuracy: 0.9781\n",
      "Epoch 28/30.. Time per epoch: 54.7355.. Average time per step: 0.1400.. Train loss: 0.4314.. Train accuracy: 0.8487.. Top-3 train accuracy: 0.9744.. Test loss: 0.3697.. Test accuracy: 0.8729.. Top-3 test accuracy: 0.9824\n",
      "Epoch 29/30.. Time per epoch: 54.6806.. Average time per step: 0.1398.. Train loss: 0.4174.. Train accuracy: 0.8542.. Top-3 train accuracy: 0.9772.. Test loss: 0.3672.. Test accuracy: 0.8752.. Top-3 test accuracy: 0.9795\n",
      "Epoch 30/30.. Time per epoch: 55.0996.. Average time per step: 0.1409.. Train loss: 0.4125.. Train accuracy: 0.8540.. Top-3 train accuracy: 0.9774.. Test loss: 0.3517.. Test accuracy: 0.8795.. Top-3 test accuracy: 0.9806\n",
      "Epoch 1/30.. Time per epoch: 54.5899.. Average time per step: 0.1396.. Train loss: 1.6491.. Train accuracy: 0.4015.. Top-3 train accuracy: 0.7459.. Test loss: 1.3390.. Test accuracy: 0.5024.. Top-3 test accuracy: 0.8357\n",
      "Epoch 2/30.. Time per epoch: 54.9560.. Average time per step: 0.1406.. Train loss: 1.3098.. Train accuracy: 0.5246.. Top-3 train accuracy: 0.8385.. Test loss: 1.0545.. Test accuracy: 0.6172.. Top-3 test accuracy: 0.8905\n",
      "Epoch 3/30.. Time per epoch: 54.8752.. Average time per step: 0.1403.. Train loss: 1.1537.. Train accuracy: 0.5852.. Top-3 train accuracy: 0.8705.. Test loss: 0.9279.. Test accuracy: 0.6661.. Top-3 test accuracy: 0.9098\n",
      "Epoch 4/30.. Time per epoch: 54.8882.. Average time per step: 0.1404.. Train loss: 1.0654.. Train accuracy: 0.6182.. Top-3 train accuracy: 0.8880.. Test loss: 0.8971.. Test accuracy: 0.6793.. Top-3 test accuracy: 0.9196\n",
      "Epoch 5/30.. Time per epoch: 55.1580.. Average time per step: 0.1411.. Train loss: 0.9836.. Train accuracy: 0.6531.. Top-3 train accuracy: 0.9033.. Test loss: 0.7766.. Test accuracy: 0.7271.. Top-3 test accuracy: 0.9354\n",
      "Epoch 6/30.. Time per epoch: 54.8304.. Average time per step: 0.1402.. Train loss: 0.9122.. Train accuracy: 0.6792.. Top-3 train accuracy: 0.9148.. Test loss: 0.8104.. Test accuracy: 0.7109.. Top-3 test accuracy: 0.9384\n",
      "Epoch 7/30.. Time per epoch: 54.8965.. Average time per step: 0.1404.. Train loss: 0.8647.. Train accuracy: 0.6958.. Top-3 train accuracy: 0.9213.. Test loss: 0.6858.. Test accuracy: 0.7613.. Top-3 test accuracy: 0.9470\n",
      "Epoch 8/30.. Time per epoch: 54.7645.. Average time per step: 0.1401.. Train loss: 0.8174.. Train accuracy: 0.7111.. Top-3 train accuracy: 0.9286.. Test loss: 0.6139.. Test accuracy: 0.7894.. Top-3 test accuracy: 0.9534\n",
      "Epoch 9/30.. Time per epoch: 54.6802.. Average time per step: 0.1398.. Train loss: 0.7759.. Train accuracy: 0.7265.. Top-3 train accuracy: 0.9356.. Test loss: 0.6137.. Test accuracy: 0.7872.. Top-3 test accuracy: 0.9579\n",
      "Epoch 10/30.. Time per epoch: 55.2974.. Average time per step: 0.1414.. Train loss: 0.7318.. Train accuracy: 0.7447.. Top-3 train accuracy: 0.9414.. Test loss: 0.5734.. Test accuracy: 0.8004.. Top-3 test accuracy: 0.9593\n",
      "Epoch 11/30.. Time per epoch: 54.8342.. Average time per step: 0.1402.. Train loss: 0.7101.. Train accuracy: 0.7535.. Top-3 train accuracy: 0.9420.. Test loss: 0.6044.. Test accuracy: 0.7916.. Top-3 test accuracy: 0.9627\n",
      "Epoch 12/30.. Time per epoch: 54.7869.. Average time per step: 0.1401.. Train loss: 0.6732.. Train accuracy: 0.7654.. Top-3 train accuracy: 0.9490.. Test loss: 0.5269.. Test accuracy: 0.8206.. Top-3 test accuracy: 0.9634\n",
      "Epoch 13/30.. Time per epoch: 54.7101.. Average time per step: 0.1399.. Train loss: 0.6499.. Train accuracy: 0.7764.. Top-3 train accuracy: 0.9501.. Test loss: 0.5354.. Test accuracy: 0.8172.. Top-3 test accuracy: 0.9634\n",
      "Epoch 14/30.. Time per epoch: 54.7915.. Average time per step: 0.1401.. Train loss: 0.6335.. Train accuracy: 0.7791.. Top-3 train accuracy: 0.9529.. Test loss: 0.4913.. Test accuracy: 0.8329.. Top-3 test accuracy: 0.9696\n",
      "Epoch 15/30.. Time per epoch: 54.7651.. Average time per step: 0.1401.. Train loss: 0.6037.. Train accuracy: 0.7892.. Top-3 train accuracy: 0.9572.. Test loss: 0.4750.. Test accuracy: 0.8361.. Top-3 test accuracy: 0.9714\n",
      "Epoch 16/30.. Time per epoch: 54.0084.. Average time per step: 0.1381.. Train loss: 0.5828.. Train accuracy: 0.7959.. Top-3 train accuracy: 0.9590.. Test loss: 0.4500.. Test accuracy: 0.8413.. Top-3 test accuracy: 0.9734\n",
      "Epoch 17/30.. Time per epoch: 54.1352.. Average time per step: 0.1385.. Train loss: 0.5664.. Train accuracy: 0.8017.. Top-3 train accuracy: 0.9600.. Test loss: 0.4456.. Test accuracy: 0.8468.. Top-3 test accuracy: 0.9755\n",
      "Epoch 18/30.. Time per epoch: 54.1299.. Average time per step: 0.1384.. Train loss: 0.5528.. Train accuracy: 0.8071.. Top-3 train accuracy: 0.9619.. Test loss: 0.4617.. Test accuracy: 0.8429.. Top-3 test accuracy: 0.9705\n",
      "Epoch 19/30.. Time per epoch: 53.8530.. Average time per step: 0.1377.. Train loss: 0.5337.. Train accuracy: 0.8147.. Top-3 train accuracy: 0.9639.. Test loss: 0.4297.. Test accuracy: 0.8512.. Top-3 test accuracy: 0.9765\n",
      "Epoch 20/30.. Time per epoch: 54.0212.. Average time per step: 0.1382.. Train loss: 0.5250.. Train accuracy: 0.8171.. Top-3 train accuracy: 0.9656.. Test loss: 0.4120.. Test accuracy: 0.8602.. Top-3 test accuracy: 0.9789\n",
      "Epoch 21/30.. Time per epoch: 54.4532.. Average time per step: 0.1393.. Train loss: 0.5184.. Train accuracy: 0.8183.. Top-3 train accuracy: 0.9664.. Test loss: 0.4141.. Test accuracy: 0.8570.. Top-3 test accuracy: 0.9769\n",
      "Epoch 22/30.. Time per epoch: 54.6746.. Average time per step: 0.1398.. Train loss: 0.4907.. Train accuracy: 0.8279.. Top-3 train accuracy: 0.9695.. Test loss: 0.4128.. Test accuracy: 0.8611.. Top-3 test accuracy: 0.9763\n",
      "Epoch 23/30.. Time per epoch: 54.5661.. Average time per step: 0.1396.. Train loss: 0.4846.. Train accuracy: 0.8319.. Top-3 train accuracy: 0.9689.. Test loss: 0.3926.. Test accuracy: 0.8628.. Top-3 test accuracy: 0.9800\n",
      "Epoch 24/30.. Time per epoch: 54.5935.. Average time per step: 0.1396.. Train loss: 0.4760.. Train accuracy: 0.8328.. Top-3 train accuracy: 0.9717.. Test loss: 0.3840.. Test accuracy: 0.8687.. Top-3 test accuracy: 0.9784\n",
      "Epoch 25/30.. Time per epoch: 54.7346.. Average time per step: 0.1400.. Train loss: 0.4694.. Train accuracy: 0.8361.. Top-3 train accuracy: 0.9698.. Test loss: 0.3849.. Test accuracy: 0.8668.. Top-3 test accuracy: 0.9809\n",
      "Epoch 26/30.. Time per epoch: 55.0331.. Average time per step: 0.1407.. Train loss: 0.4523.. Train accuracy: 0.8426.. Top-3 train accuracy: 0.9734.. Test loss: 0.3748.. Test accuracy: 0.8695.. Top-3 test accuracy: 0.9792\n",
      "Epoch 27/30.. Time per epoch: 54.6182.. Average time per step: 0.1397.. Train loss: 0.4417.. Train accuracy: 0.8458.. Top-3 train accuracy: 0.9734.. Test loss: 0.3722.. Test accuracy: 0.8731.. Top-3 test accuracy: 0.9791\n",
      "Epoch 28/30.. Time per epoch: 54.6738.. Average time per step: 0.1398.. Train loss: 0.4233.. Train accuracy: 0.8517.. Top-3 train accuracy: 0.9753.. Test loss: 0.3866.. Test accuracy: 0.8693.. Top-3 test accuracy: 0.9799\n",
      "Epoch 29/30.. Time per epoch: 54.7754.. Average time per step: 0.1401.. Train loss: 0.4178.. Train accuracy: 0.8534.. Top-3 train accuracy: 0.9758.. Test loss: 0.3450.. Test accuracy: 0.8784.. Top-3 test accuracy: 0.9811\n",
      "Epoch 30/30.. Time per epoch: 54.5442.. Average time per step: 0.1395.. Train loss: 0.4102.. Train accuracy: 0.8562.. Top-3 train accuracy: 0.9777.. Test loss: 0.3625.. Test accuracy: 0.8743.. Top-3 test accuracy: 0.9815\n",
      "Epoch 1/30.. Time per epoch: 54.8635.. Average time per step: 0.1403.. Train loss: 1.6495.. Train accuracy: 0.4026.. Top-3 train accuracy: 0.7448.. Test loss: 1.3826.. Test accuracy: 0.4819.. Top-3 test accuracy: 0.8251\n",
      "Epoch 2/30.. Time per epoch: 54.7956.. Average time per step: 0.1401.. Train loss: 1.3130.. Train accuracy: 0.5271.. Top-3 train accuracy: 0.8367.. Test loss: 1.1989.. Test accuracy: 0.5621.. Top-3 test accuracy: 0.8700\n",
      "Epoch 3/30.. Time per epoch: 54.9468.. Average time per step: 0.1405.. Train loss: 1.1554.. Train accuracy: 0.5865.. Top-3 train accuracy: 0.8709.. Test loss: 0.9968.. Test accuracy: 0.6384.. Top-3 test accuracy: 0.9062\n",
      "Epoch 4/30.. Time per epoch: 54.8191.. Average time per step: 0.1402.. Train loss: 1.0575.. Train accuracy: 0.6239.. Top-3 train accuracy: 0.8908.. Test loss: 0.8819.. Test accuracy: 0.6863.. Top-3 test accuracy: 0.9218\n",
      "Epoch 5/30.. Time per epoch: 54.7357.. Average time per step: 0.1400.. Train loss: 0.9861.. Train accuracy: 0.6506.. Top-3 train accuracy: 0.9021.. Test loss: 0.8217.. Test accuracy: 0.7092.. Top-3 test accuracy: 0.9291\n",
      "Epoch 6/30.. Time per epoch: 55.3099.. Average time per step: 0.1415.. Train loss: 0.9013.. Train accuracy: 0.6834.. Top-3 train accuracy: 0.9166.. Test loss: 0.7417.. Test accuracy: 0.7448.. Top-3 test accuracy: 0.9394\n",
      "Epoch 7/30.. Time per epoch: 54.9106.. Average time per step: 0.1404.. Train loss: 0.8689.. Train accuracy: 0.6932.. Top-3 train accuracy: 0.9211.. Test loss: 0.7464.. Test accuracy: 0.7418.. Top-3 test accuracy: 0.9381\n",
      "Epoch 8/30.. Time per epoch: 54.7912.. Average time per step: 0.1401.. Train loss: 0.8107.. Train accuracy: 0.7156.. Top-3 train accuracy: 0.9304.. Test loss: 0.6474.. Test accuracy: 0.7792.. Top-3 test accuracy: 0.9510\n",
      "Epoch 9/30.. Time per epoch: 54.9682.. Average time per step: 0.1406.. Train loss: 0.7614.. Train accuracy: 0.7337.. Top-3 train accuracy: 0.9359.. Test loss: 0.6031.. Test accuracy: 0.7929.. Top-3 test accuracy: 0.9576\n",
      "Epoch 10/30.. Time per epoch: 54.7907.. Average time per step: 0.1401.. Train loss: 0.7247.. Train accuracy: 0.7466.. Top-3 train accuracy: 0.9408.. Test loss: 0.5809.. Test accuracy: 0.7981.. Top-3 test accuracy: 0.9598\n",
      "Epoch 11/30.. Time per epoch: 55.3271.. Average time per step: 0.1415.. Train loss: 0.6972.. Train accuracy: 0.7584.. Top-3 train accuracy: 0.9468.. Test loss: 0.5551.. Test accuracy: 0.8066.. Top-3 test accuracy: 0.9630\n",
      "Epoch 12/30.. Time per epoch: 54.7410.. Average time per step: 0.1400.. Train loss: 0.6697.. Train accuracy: 0.7669.. Top-3 train accuracy: 0.9484.. Test loss: 0.5613.. Test accuracy: 0.8035.. Top-3 test accuracy: 0.9624\n",
      "Epoch 13/30.. Time per epoch: 54.8390.. Average time per step: 0.1403.. Train loss: 0.6469.. Train accuracy: 0.7745.. Top-3 train accuracy: 0.9499.. Test loss: 0.5202.. Test accuracy: 0.8261.. Top-3 test accuracy: 0.9666\n",
      "Epoch 14/30.. Time per epoch: 54.8727.. Average time per step: 0.1403.. Train loss: 0.6281.. Train accuracy: 0.7811.. Top-3 train accuracy: 0.9540.. Test loss: 0.4914.. Test accuracy: 0.8269.. Top-3 test accuracy: 0.9673\n",
      "Epoch 15/30.. Time per epoch: 54.8207.. Average time per step: 0.1402.. Train loss: 0.5927.. Train accuracy: 0.7940.. Top-3 train accuracy: 0.9576.. Test loss: 0.4790.. Test accuracy: 0.8345.. Top-3 test accuracy: 0.9723\n",
      "Epoch 16/30.. Time per epoch: 55.2518.. Average time per step: 0.1413.. Train loss: 0.5876.. Train accuracy: 0.7952.. Top-3 train accuracy: 0.9581.. Test loss: 0.4489.. Test accuracy: 0.8405.. Top-3 test accuracy: 0.9722\n",
      "Epoch 17/30.. Time per epoch: 54.9616.. Average time per step: 0.1406.. Train loss: 0.5688.. Train accuracy: 0.8016.. Top-3 train accuracy: 0.9610.. Test loss: 0.4660.. Test accuracy: 0.8342.. Top-3 test accuracy: 0.9702\n",
      "Epoch 18/30.. Time per epoch: 54.8701.. Average time per step: 0.1403.. Train loss: 0.5480.. Train accuracy: 0.8094.. Top-3 train accuracy: 0.9634.. Test loss: 0.4739.. Test accuracy: 0.8388.. Top-3 test accuracy: 0.9681\n",
      "Epoch 19/30.. Time per epoch: 54.9460.. Average time per step: 0.1405.. Train loss: 0.5238.. Train accuracy: 0.8161.. Top-3 train accuracy: 0.9663.. Test loss: 0.4419.. Test accuracy: 0.8500.. Top-3 test accuracy: 0.9745\n",
      "Epoch 20/30.. Time per epoch: 54.7380.. Average time per step: 0.1400.. Train loss: 0.5226.. Train accuracy: 0.8184.. Top-3 train accuracy: 0.9656.. Test loss: 0.4425.. Test accuracy: 0.8479.. Top-3 test accuracy: 0.9737\n",
      "Epoch 21/30.. Time per epoch: 55.2125.. Average time per step: 0.1412.. Train loss: 0.5033.. Train accuracy: 0.8253.. Top-3 train accuracy: 0.9678.. Test loss: 0.4355.. Test accuracy: 0.8498.. Top-3 test accuracy: 0.9732\n",
      "Epoch 22/30.. Time per epoch: 54.8670.. Average time per step: 0.1403.. Train loss: 0.4937.. Train accuracy: 0.8296.. Top-3 train accuracy: 0.9686.. Test loss: 0.4096.. Test accuracy: 0.8558.. Top-3 test accuracy: 0.9756\n",
      "Epoch 23/30.. Time per epoch: 54.9612.. Average time per step: 0.1406.. Train loss: 0.4778.. Train accuracy: 0.8338.. Top-3 train accuracy: 0.9694.. Test loss: 0.3987.. Test accuracy: 0.8608.. Top-3 test accuracy: 0.9755\n",
      "Epoch 24/30.. Time per epoch: 54.9650.. Average time per step: 0.1406.. Train loss: 0.4631.. Train accuracy: 0.8391.. Top-3 train accuracy: 0.9718.. Test loss: 0.3656.. Test accuracy: 0.8746.. Top-3 test accuracy: 0.9792\n",
      "Epoch 25/30.. Time per epoch: 54.9077.. Average time per step: 0.1404.. Train loss: 0.4504.. Train accuracy: 0.8419.. Top-3 train accuracy: 0.9735.. Test loss: 0.3854.. Test accuracy: 0.8719.. Top-3 test accuracy: 0.9789\n",
      "Epoch 26/30.. Time per epoch: 55.2936.. Average time per step: 0.1414.. Train loss: 0.4413.. Train accuracy: 0.8464.. Top-3 train accuracy: 0.9740.. Test loss: 0.3885.. Test accuracy: 0.8662.. Top-3 test accuracy: 0.9786\n",
      "Epoch 27/30.. Time per epoch: 54.3873.. Average time per step: 0.1391.. Train loss: 0.4426.. Train accuracy: 0.8459.. Top-3 train accuracy: 0.9742.. Test loss: 0.3890.. Test accuracy: 0.8702.. Top-3 test accuracy: 0.9781\n",
      "Epoch 28/30.. Time per epoch: 54.1507.. Average time per step: 0.1385.. Train loss: 0.4239.. Train accuracy: 0.8543.. Top-3 train accuracy: 0.9759.. Test loss: 0.3747.. Test accuracy: 0.8713.. Top-3 test accuracy: 0.9791\n",
      "Epoch 29/30.. Time per epoch: 54.0879.. Average time per step: 0.1383.. Train loss: 0.4099.. Train accuracy: 0.8572.. Top-3 train accuracy: 0.9774.. Test loss: 0.3594.. Test accuracy: 0.8784.. Top-3 test accuracy: 0.9811\n",
      "Epoch 30/30.. Time per epoch: 54.0997.. Average time per step: 0.1384.. Train loss: 0.4090.. Train accuracy: 0.8574.. Top-3 train accuracy: 0.9776.. Test loss: 0.3655.. Test accuracy: 0.8753.. Top-3 test accuracy: 0.9811\n"
     ]
    }
   ],
   "source": [
    "model_relu, train_stats_relu = train(model_relu, device, epochs, trainloader, testloader, criterion, optimizer_relu, train_stats)\n",
    "model_swish, train_stats_swish = train(model_swish, device, epochs, trainloader, testloader, criterion, optimizer_swish, train_stats)\n",
    "model_mish, train_stats_mish = train(model_mish, device, epochs, trainloader, testloader, criterion, optimizer_mish, train_stats)"
   ]
  },
  {
   "cell_type": "markdown",
   "metadata": {},
   "source": [
    "## ReLU"
   ]
  },
  {
   "cell_type": "code",
   "execution_count": 19,
   "metadata": {},
   "outputs": [
    {
     "data": {
      "image/png": "[encoded data removed]",
      "text/plain": [
       "<Figure size 1080x360 with 2 Axes>"
      ]
     },
     "metadata": {
      "needs_background": "light"
     },
     "output_type": "display_data"
    }
   ],
   "source": [
    "# get the converged weights and plot them \n",
    "converged_weights_relu = get_weights(model_relu)\n",
    "plt.figure(figsize=(15,5))\n",
    "plt.subplot(121); \n",
    "plt.plot(train_stats_relu['Train loss'].values,label='Train Acc')\n",
    "plt.plot(train_stats_relu['Test loss'].values,label='Test Loss')\n",
    "plt.legend()\n",
    "\n",
    "plt.subplot(122); \n",
    "plt.plot(train_stats_relu['Train accuracy'].values,label='Train Acc')\n",
    "plt.plot(train_stats_relu['Test accuracy'].values,label='Test Loss')\n",
    "\n",
    "plt.legend()\n",
    "plt.show()"
   ]
  },
  {
   "cell_type": "markdown",
   "metadata": {},
   "source": [
    "## Swish"
   ]
  },
  {
   "cell_type": "code",
   "execution_count": 20,
   "metadata": {},
   "outputs": [
    {
     "data": {
      "image/png": "[encoded data removed]",
      "text/plain": [
       "<Figure size 1080x360 with 2 Axes>"
      ]
     },
     "metadata": {
      "needs_background": "light"
     },
     "output_type": "display_data"
    }
   ],
   "source": [
    "# get the converged weights and plot them \n",
    "converged_weights_swish = get_weights(model_swish)\n",
    "plt.figure(figsize=(15,5))\n",
    "plt.subplot(121); \n",
    "plt.plot(train_stats_swish['Train loss'].values,label='Train Acc')\n",
    "plt.plot(train_stats_swish['Test loss'].values,label='Test Loss')\n",
    "plt.legend()\n",
    "\n",
    "plt.subplot(122); \n",
    "plt.plot(train_stats_swish['Train accuracy'].values,label='Train Acc')\n",
    "plt.plot(train_stats_swish['Test accuracy'].values,label='Test Loss')\n",
    "\n",
    "plt.legend()\n",
    "plt.show()"
   ]
  },
  {
   "cell_type": "markdown",
   "metadata": {},
   "source": [
    "## Mish"
   ]
  },
  {
   "cell_type": "code",
   "execution_count": 21,
   "metadata": {},
   "outputs": [
    {
     "data": {
      "image/png": "[encoded data removed]",
      "text/plain": [
       "<Figure size 1080x360 with 2 Axes>"
      ]
     },
     "metadata": {
      "needs_background": "light"
     },
     "output_type": "display_data"
    }
   ],
   "source": [
    "# get the converged weights and plot them \n",
    "converged_weights_mish = get_weights(model_mish)\n",
    "plt.figure(figsize=(15,5))\n",
    "plt.subplot(121); \n",
    "plt.plot(train_stats_mish['Train loss'].values,label='Train Acc')\n",
    "plt.plot(train_stats_mish['Test loss'].values,label='Test Loss')\n",
    "plt.legend()\n",
    "\n",
    "plt.subplot(122); \n",
    "plt.plot(train_stats_mish['Train accuracy'].values,label='Train Acc')\n",
    "plt.plot(train_stats_mish['Test accuracy'].values,label='Test Loss')\n",
    "\n",
    "plt.legend()\n",
    "plt.show()"
   ]
  },
  {
   "cell_type": "code",
   "execution_count": 22,
   "metadata": {},
   "outputs": [],
   "source": [
    "# create help functions\n",
    "def viz_histogram_weights(converged_weights, direction1,direction2,title=\"None\"):\n",
    "    plt.figure(figsize=(55,55//9))\n",
    "    plt.suptitle(title, fontsize=20, y=1.15)\n",
    "    for layer_index in range(len(converged_weights)):\n",
    "        plt.subplot(1,9,layer_index+1)\n",
    "        plt.title(\"Layer : \" + str(layer_index))\n",
    "        plt.hist(converged_weights[layer_index].cpu().numpy().ravel(),50,alpha=0.6,label='Weight')\n",
    "        plt.hist(direction1[layer_index].cpu().numpy().ravel(),50,alpha=0.2,label='Direction 1')\n",
    "        plt.hist(direction2[layer_index].cpu().numpy().ravel(),50,alpha=0.2,label='Direction 2')\n",
    "        plt.yticks([])\n",
    "        plt.legend()\n",
    "    plt.show()\n",
    "def create_viz(loss_list,acc_list,title=\"none\"):\n",
    "    \n",
    "    # plot the loss functions\n",
    "    plt.figure(figsize=(18,6))\n",
    "    plt.subplot(131)\n",
    "    plt.title(\"Original Contour\")\n",
    "    CS = plt.contour(xcoord_mesh, ycoord_mesh, loss_list,  10, zorder=1, cmap='terrain', linestyles='--')\n",
    "    plt.clabel(CS, inline=1, fontsize=8)\n",
    "\n",
    "    plt.subplot(132)\n",
    "    plt.title(\"Original Contour with Color\")\n",
    "    plt.contour(xcoord_mesh, ycoord_mesh, loss_list,  10, zorder=1, cmap='terrain', linestyles='--')\n",
    "    CS = plt.contourf(xcoord_mesh, ycoord_mesh, loss_list, 10, zorder=1, cmap='terrain', linestyles='--')   \n",
    "    plt.clabel(CS, fontsize=12,inline=0,fmt = '%2.1f')\n",
    "    plt.colorbar(CS)\n",
    "\n",
    "    plt.subplot(133)\n",
    "    plt.title(\"Log Scale\")\n",
    "    CS = plt.contour(xcoord_mesh, ycoord_mesh, np.log(loss_list+1e-8),10,zorder=1, cmap='terrain', linestyles='--'); \n",
    "    plt.clabel(CS, fontsize=8,inline=1)\n",
    "\n",
    "    plt.savefig(title)\n",
    "    plt.show()\n",
    "    \n",
    "    data = [\n",
    "        go.Surface(\n",
    "            x=xcoord_mesh,y=ycoord_mesh,\n",
    "            z=(loss_list.max()-loss_list.min())*(acc_list-acc_list.min())/(acc_list.max()-acc_list.min()+1e-8)+loss_list.min(),\n",
    "            showscale=False, opacity=0.6,colorscale='Cividis',\n",
    "        ),\n",
    "        go.Surface(\n",
    "            x=xcoord_mesh,y=ycoord_mesh,z=loss_list,colorscale='Jet',opacity=0.9,\n",
    "            contours=go.surface.Contours(z=go.surface.contours.Z(show=True,usecolormap=True,project=dict(z=True),),\n",
    "            )\n",
    "        )\n",
    "    ]\n",
    "    layout = go.Layout(title='Loss / Accuracy',autosize=True,scene=dict(camera=dict(eye=dict(x=1.87, y=0.88, z=-0.64))),margin=dict(l=65,r=50,b=65,t=90))\n",
    "    fig    = go.Figure(data=data,layout=layout); iplot(fig); plt.show()\n",
    "\n",
    "    data = [\n",
    "        go.Surface(\n",
    "            x=xcoord_mesh,y=ycoord_mesh,\n",
    "            z=(np.log(loss_list).max()-np.log(loss_list).min())*(acc_list-acc_list.min())/(acc_list.max()-acc_list.min()+1e-8)+np.log(loss_list).min(),\n",
    "            showscale=False, opacity=0.6,colorscale='Cividis',\n",
    "        ),\n",
    "        go.Surface(\n",
    "            x=xcoord_mesh,y=ycoord_mesh,z=np.log(loss_list),colorscale='Jet',opacity=0.9,\n",
    "            contours=go.surface.Contours(z=go.surface.contours.Z(show=True,usecolormap=True,project=dict(z=True),),\n",
    "            )\n",
    "        )\n",
    "    ]\n",
    "    layout = go.Layout(title='Log Scale Loss / Accuracy',autosize=True,scene=dict(camera=dict(eye=dict(x=1.87, y=0.88, z=-0.64))),margin=dict(l=65,r=50,b=65,t=90))\n",
    "    fig    = go.Figure(data=data,layout=layout); iplot(fig); plt.show()"
   ]
  },
  {
   "cell_type": "code",
   "execution_count": 23,
   "metadata": {},
   "outputs": [
    {
     "name": "stdout",
     "output_type": "stream",
     "text": [
      "From  -1.0  to  1.0  with  9  total number of coordinate:  81\n"
     ]
    }
   ],
   "source": [
    "# create the coordinates\n",
    "numebr_of_points = 9 ; small_range = -1.0 ; large_range =  1.0\n",
    "\n",
    "xcoordinates = np.linspace(small_range, large_range, num=numebr_of_points) \n",
    "ycoordinates = np.linspace(small_range, large_range, num=numebr_of_points) \n",
    "\n",
    "xcoord_mesh, ycoord_mesh = np.meshgrid(xcoordinates, ycoordinates)\n",
    "inds = np.array(range(numebr_of_points**2))\n",
    "s1   = xcoord_mesh.ravel()[inds]\n",
    "s2   = ycoord_mesh.ravel()[inds]\n",
    "coordinate = np.c_[s1,s2]\n",
    "print('From ',small_range,' to ',large_range,' with ',numebr_of_points,' total number of coordinate: ', numebr_of_points**2)"
   ]
  },
  {
   "cell_type": "code",
   "execution_count": 24,
   "metadata": {},
   "outputs": [],
   "source": [
    "copy_of_the_weights_relu = [w.clone() for w in converged_weights_relu]\n",
    "copy_of_the_weights_swish = [w.clone() for w in converged_weights_swish]\n",
    "copy_of_the_weights_mish = [w.clone() for w in converged_weights_mish]\n",
    "sess = tf.InteractiveSession()"
   ]
  },
  {
   "cell_type": "markdown",
   "metadata": {},
   "source": [
    "## ReLU"
   ]
  },
  {
   "cell_type": "code",
   "execution_count": 25,
   "metadata": {},
   "outputs": [],
   "source": [
    "direction1 = []\n",
    "dimension  = (0,2)\n",
    "for w in copy_of_the_weights_relu:\n",
    "    if w.dim() == 4:\n",
    "        random_vector = torch.randn(w.shape) \n",
    "        random_vector = random_vector * (w.norm()/(random_vector.norm()+1e-8))\n",
    "        direction1.append(random_vector)\n",
    "    else:\n",
    "        direction1.append(torch.zeros_like(w))"
   ]
  },
  {
   "cell_type": "code",
   "execution_count": 26,
   "metadata": {},
   "outputs": [],
   "source": [
    "direction2 = []\n",
    "dimension  = (1,3)\n",
    "for w in copy_of_the_weights_relu:\n",
    "    if w.dim() == 4:\n",
    "        random_vector = torch.randn(w.shape) \n",
    "        random_vector = random_vector * (w.norm()/(random_vector.norm()+1e-8))\n",
    "        direction2.append(random_vector)\n",
    "    else:\n",
    "        direction2.append(torch.zeros_like(w))"
   ]
  },
  {
   "cell_type": "code",
   "execution_count": 27,
   "metadata": {},
   "outputs": [
    {
     "data": {
      "image/png": "[encoded data removed]",
      "text/plain": [
       "<Figure size 3960x432 with 9 Axes>"
      ]
     },
     "metadata": {
      "needs_background": "light"
     },
     "output_type": "display_data"
    }
   ],
   "source": [
    "viz_histogram_weights(copy_of_the_weights_relu[:9],direction1,direction2) # plot for the 1st 9 layers"
   ]
  },
  {
   "cell_type": "code",
   "execution_count": 28,
   "metadata": {},
   "outputs": [],
   "source": [
    "# Set up the direction \n",
    "current_direction1 = direction1\n",
    "current_direction2 = direction2\n",
    "current_loader     = trainloader"
   ]
  },
  {
   "cell_type": "code",
   "execution_count": 29,
   "metadata": {},
   "outputs": [
    {
     "name": "stdout",
     "output_type": "stream",
     "text": [
      "count: 0\tCoord: [-1. -1.]\t\tAcc: 9.872159090909092\tLoss: 6.711\n",
      "count: 2\tCoord: [-0.5 -1. ]\t\tAcc: 9.446022727272727\tLoss: 5.263\n",
      "count: 4\tCoord: [ 0. -1.]\t\tAcc: 10.724431818181818\tLoss: 4.303\n",
      "count: 6\tCoord: [ 0.5 -1. ]\t\tAcc: 16.12215909090909\tLoss: 4.25\n",
      "count: 8\tCoord: [ 1. -1.]\t\tAcc: 10.9375\tLoss: 5.334\n",
      "count: 10\tCoord: [-0.75 -0.75]\t\tAcc: 9.161931818181818\tLoss: 5.298\n",
      "count: 12\tCoord: [-0.25 -0.75]\t\tAcc: 9.872159090909092\tLoss: 3.86\n",
      "count: 14\tCoord: [ 0.25 -0.75]\t\tAcc: 14.701704545454545\tLoss: 3.462\n",
      "count: 16\tCoord: [ 0.75 -0.75]\t\tAcc: 10.795454545454545\tLoss: 3.752\n",
      "count: 18\tCoord: [-1.  -0.5]\t\tAcc: 9.090909090909092\tLoss: 5.157\n",
      "count: 20\tCoord: [-0.5 -0.5]\t\tAcc: 9.232954545454545\tLoss: 3.796\n",
      "count: 22\tCoord: [ 0.  -0.5]\t\tAcc: 10.511363636363637\tLoss: 3.03\n",
      "count: 24\tCoord: [ 0.5 -0.5]\t\tAcc: 11.647727272727273\tLoss: 3.048\n",
      "count: 26\tCoord: [ 1.  -0.5]\t\tAcc: 10.653409090909092\tLoss: 4.478\n",
      "count: 28\tCoord: [-0.75 -0.25]\t\tAcc: 8.948863636363637\tLoss: 3.859\n",
      "count: 30\tCoord: [-0.25 -0.25]\t\tAcc: 11.434659090909092\tLoss: 2.835\n",
      "count: 32\tCoord: [ 0.25 -0.25]\t\tAcc: 12.002840909090908\tLoss: 2.656\n",
      "count: 34\tCoord: [ 0.75 -0.25]\t\tAcc: 7.8125\tLoss: 3.601\n",
      "count: 36\tCoord: [-1.  0.]\t\tAcc: 9.730113636363637\tLoss: 3.77\n",
      "count: 38\tCoord: [-0.5  0. ]\t\tAcc: 9.446022727272727\tLoss: 3.026\n",
      "count: 40\tCoord: [0. 0.]\t\tAcc: 12.215909090909092\tLoss: 2.57\n",
      "count: 42\tCoord: [0.5 0. ]\t\tAcc: 8.877840909090908\tLoss: 3.164\n",
      "count: 44\tCoord: [1. 0.]\t\tAcc: 6.534090909090909\tLoss: 5.389\n",
      "count: 46\tCoord: [-0.75  0.25]\t\tAcc: 9.943181818181818\tLoss: 3.178\n",
      "count: 48\tCoord: [-0.25  0.25]\t\tAcc: 10.511363636363637\tLoss: 2.76\n",
      "count: 50\tCoord: [0.25 0.25]\t\tAcc: 9.090909090909092\tLoss: 2.914\n",
      "count: 52\tCoord: [0.75 0.25]\t\tAcc: 5.752840909090909\tLoss: 4.675\n",
      "count: 54\tCoord: [-1.   0.5]\t\tAcc: 8.167613636363637\tLoss: 4.094\n",
      "count: 56\tCoord: [-0.5  0.5]\t\tAcc: 9.659090909090908\tLoss: 3.078\n",
      "count: 58\tCoord: [0.  0.5]\t\tAcc: 10.9375\tLoss: 2.932\n",
      "count: 60\tCoord: [0.5 0.5]\t\tAcc: 7.315340909090909\tLoss: 3.975\n",
      "count: 62\tCoord: [1.  0.5]\t\tAcc: 7.457386363636363\tLoss: 7.13\n",
      "count: 64\tCoord: [-0.75  0.75]\t\tAcc: 8.948863636363637\tLoss: 3.827\n",
      "count: 66\tCoord: [-0.25  0.75]\t\tAcc: 9.019886363636363\tLoss: 3.308\n",
      "count: 68\tCoord: [0.25 0.75]\t\tAcc: 9.019886363636363\tLoss: 3.636\n",
      "count: 70\tCoord: [0.75 0.75]\t\tAcc: 7.599431818181818\tLoss: 6.058\n",
      "count: 72\tCoord: [-1.  1.]\t\tAcc: 10.014204545454545\tLoss: 5.547\n",
      "count: 74\tCoord: [-0.5  1. ]\t\tAcc: 10.9375\tLoss: 3.976\n",
      "count: 76\tCoord: [0. 1.]\t\tAcc: 11.150568181818182\tLoss: 3.999\n",
      "count: 78\tCoord: [0.5 1. ]\t\tAcc: 7.8125\tLoss: 5.738\n",
      "count: 80\tCoord: [1. 1.]\t\tAcc: 9.019886363636363\tLoss: 9.247\n"
     ]
    }
   ],
   "source": [
    "# start the evaluation\n",
    "loss_list = np.zeros((numebr_of_points,numebr_of_points)); acc_list  = np.zeros((numebr_of_points,numebr_of_points))\n",
    "col_value = 0\n",
    "\n",
    "for count, ind in enumerate(inds):\n",
    "    \n",
    "    # change the weight values\n",
    "    coord   = coordinate[count]\n",
    "    changes = [d0.cuda()*coord[0] + d1.cuda()*coord[1] for (d0, d1) in zip(current_direction1, current_direction2)]\n",
    "    for (p, w, d) in zip(model_relu.parameters(), weight_relu, changes):\n",
    "        w = w.type(torch.FloatTensor)\n",
    "        w = w.cuda()\n",
    "        d = d.type(torch.FloatTensor)\n",
    "        d = d.cuda()\n",
    "        p.data = w + d\n",
    "\n",
    "    # start the evaluation\n",
    "    correct = 0; total_loss = 0; total = 0 \n",
    "    with torch.no_grad():\n",
    "        for batch_idx, (inputs, targets) in enumerate(current_loader):\n",
    "            batch_size = inputs.size(0)\n",
    "            total      = total + batch_size\n",
    "            \n",
    "            inputs, targets = Variable(inputs).cuda(),Variable(targets).cuda()\n",
    "            \n",
    "            outputs = model_relu(inputs)\n",
    "            loss    = criterion(outputs, targets)\n",
    "            total_loss   = total_loss + loss.item()*batch_size\n",
    "            _, predicted = torch.max(outputs.data, 1)\n",
    "            correct      = correct + predicted.eq(targets).sum().item()\n",
    "            sys.stdout.write(\"Coord: \"+str(coord)+\"\\tAcc: \"+str(predicted.eq(targets).sum().item())+\"\\tLoss: \"+str(np.around(loss.item(),3))+\"\\r\")\n",
    "            sys.stdout.flush()\n",
    "            \n",
    "            if batch_idx==10: break\n",
    "            \n",
    "        if count % 2 == 0 : sys.stdout.write(\"count: \"+str(count)+\"\\tCoord: \"+str(coord)+\"\\t\\tAcc: \"+str(100.*correct/total)+\"\\tLoss: \"+str(np.around(total_loss/total,3))+\"\\n\")\n",
    "        \n",
    "    # store value \n",
    "    loss_list[col_value][ind%numebr_of_points] = total_loss/total\n",
    "    acc_list [col_value][ind%numebr_of_points] = 100.*correct/total\n",
    "    ind_compare = ind + 1\n",
    "    if ind_compare % numebr_of_points == 0 :  col_value = col_value + 1"
   ]
  },
  {
   "cell_type": "code",
   "execution_count": 30,
   "metadata": {},
   "outputs": [
    {
     "data": {
      "image/png": "[encoded data removed]",
      "text/plain": [
       "<Figure size 1296x432 with 4 Axes>"
      ]
     },
     "metadata": {
      "needs_background": "light"
     },
     "output_type": "display_data"
    },
    {
     "data": {
      "application/vnd.plotly.v1+json": {
       "config": {
        "linkText": "Export to plot.ly",
        "plotlyServerURL": "https://plot.ly",
        "showLink": false
       },
       "data": [
        {
         "colorscale": "Cividis",
         "opacity": 0.6,
         "showscale": false,
         "type": "surface",
         "uid": "45907dc2-465a-46b7-861e-1ae52745f07a",
         "x": [
          [
           -1.0,
           -0.75,
           -0.5,
           -0.25,
           0.0,
           0.25,
           0.5,
           0.75,
           1.0
          ],
          [
           -1.0,
           -0.75,
           -0.5,
           -0.25,
           0.0,
           0.25,
           0.5,
           0.75,
           1.0
          ],
          [
           -1.0,
           -0.75,
           -0.5,
           -0.25,
           0.0,
           0.25,
           0.5,
           0.75,
           1.0
          ],
          [
           -1.0,
           -0.75,
           -0.5,
           -0.25,
           0.0,
           0.25,
           0.5,
           0.75,
           1.0
          ],
          [
           -1.0,
           -0.75,
           -0.5,
           -0.25,
           0.0,
           0.25,
           0.5,
           0.75,
           1.0
          ],
          [
           -1.0,
           -0.75,
           -0.5,
           -0.25,
           0.0,
           0.25,
           0.5,
           0.75,
           1.0
          ],
          [
           -1.0,
           -0.75,
           -0.5,
           -0.25,
           0.0,
           0.25,
           0.5,
           0.75,
           1.0
          ],
          [
           -1.0,
           -0.75,
           -0.5,
           -0.25,
           0.0,
           0.25,
           0.5,
           0.75,
           1.0
          ],
          [
           -1.0,
           -0.75,
           -0.5,
           -0.25,
           0.0,
           0.25,
           0.5,
           0.75,
           1.0
          ]
         ],
         "y": [
          [
           -1.0,
           -1.0,
           -1.0,
           -1.0,
           -1.0,
           -1.0,
           -1.0,
           -1.0,
           -1.0
          ],
          [
           -0.75,
           -0.75,
           -0.75,
           -0.75,
           -0.75,
           -0.75,
           -0.75,
           -0.75,
           -0.75
          ],
          [
           -0.5,
           -0.5,
           -0.5,
           -0.5,
           -0.5,
           -0.5,
           -0.5,
           -0.5,
           -0.5
          ],
          [
           -0.25,
           -0.25,
           -0.25,
           -0.25,
           -0.25,
           -0.25,
           -0.25,
           -0.25,
           -0.25
          ],
          [
           0.0,
           0.0,
           0.0,
           0.0,
           0.0,
           0.0,
           0.0,
           0.0,
           0.0
          ],
          [
           0.25,
           0.25,
           0.25,
           0.25,
           0.25,
           0.25,
           0.25,
           0.25,
           0.25
          ],
          [
           0.5,
           0.5,
           0.5,
           0.5,
           0.5,
           0.5,
           0.5,
           0.5,
           0.5
          ],
          [
           0.75,
           0.75,
           0.75,
           0.75,
           0.75,
           0.75,
           0.75,
           0.75,
           0.75
          ],
          [
           1.0,
           1.0,
           1.0,
           1.0,
           1.0,
           1.0,
           1.0,
           1.0,
           1.0
          ]
         ],
         "z": [
          [
           5.707183328622783,
           4.902756800244903,
           5.465855370109419,
           6.270281898487299,
           6.189839245649511,
           8.040020260918634,
           9.246660053485453,
           8.60311883078315,
           6.310503224906193
          ],
          [
           5.546298022947207,
           5.304970064433843,
           5.103863432339374,
           5.707183328622783,
           7.1953724061218605,
           8.442233525107573,
           7.356257711797436,
           6.230060572068405,
           5.747404655041676
          ],
          [
           5.26474873801495,
           5.26474873801495,
           5.345191390852737,
           5.626740675784996,
           6.069175266392829,
           7.114929753284072,
           6.712716489095133,
           5.827847307879465,
           6.149617919230617
          ],
          [
           5.6669620022038885,
           5.184306085177161,
           5.465855370109419,
           6.592052509838451,
           7.034487100446285,
           6.913823121189601,
           5.908289960717252,
           4.540764862474857,
           4.6614288417315395
          ],
          [
           5.626740675784996,
           6.471388530581768,
           5.465855370109419,
           6.069175266392829,
           7.034487100446285,
           6.189839245649511,
           5.144084758758266,
           4.178772924704811,
           3.8167809869347655
          ],
          [
           5.26474873801495,
           5.747404655041676,
           6.310503224906193,
           6.069175266392829,
           5.6669620022038885,
           5.26474873801495,
           3.8167809869347655,
           3.3743463963269322,
           2.5699198679490523
          ],
          [
           4.741871494569327,
           4.822314147407116,
           5.5865193493661,
           6.189839245649511,
           6.310503224906193,
           4.5809861888937515,
           4.2592155775426,
           4.741871494569327,
           4.339658230380388
          ],
          [
           5.78762598146057,
           5.184306085177161,
           5.4256340436905255,
           5.224527411596055,
           6.833380468351814,
           5.224527411596055,
           3.575453028421402,
           4.420100883218176,
           4.098330271867024
          ],
          [
           5.78762598146057,
           5.827847307879465,
           6.310503224906193,
           6.3507245513250865,
           6.431167204162874,
           5.6669620022038885,
           4.540764862474857,
           4.942978126663798,
           5.224527411596055
          ]
         ]
        },
        {
         "colorscale": "Jet",
         "contours": {
          "z": {
           "project": {
            "z": true
           },
           "show": true,
           "usecolormap": true
          }
         },
         "opacity": 0.9,
         "type": "surface",
         "uid": "b0705ee0-ae77-478a-ab85-cba1ed54dee2",
         "x": [
          [
           -1.0,
           -0.75,
           -0.5,
           -0.25,
           0.0,
           0.25,
           0.5,
           0.75,
           1.0
          ],
          [
           -1.0,
           -0.75,
           -0.5,
           -0.25,
           0.0,
           0.25,
           0.5,
           0.75,
           1.0
          ],
          [
           -1.0,
           -0.75,
           -0.5,
           -0.25,
           0.0,
           0.25,
           0.5,
           0.75,
           1.0
          ],
          [
           -1.0,
           -0.75,
           -0.5,
           -0.25,
           0.0,
           0.25,
           0.5,
           0.75,
           1.0
          ],
          [
           -1.0,
           -0.75,
           -0.5,
           -0.25,
           0.0,
           0.25,
           0.5,
           0.75,
           1.0
          ],
          [
           -1.0,
           -0.75,
           -0.5,
           -0.25,
           0.0,
           0.25,
           0.5,
           0.75,
           1.0
          ],
          [
           -1.0,
           -0.75,
           -0.5,
           -0.25,
           0.0,
           0.25,
           0.5,
           0.75,
           1.0
          ],
          [
           -1.0,
           -0.75,
           -0.5,
           -0.25,
           0.0,
           0.25,
           0.5,
           0.75,
           1.0
          ],
          [
           -1.0,
           -0.75,
           -0.5,
           -0.25,
           0.0,
           0.25,
           0.5,
           0.75,
           1.0
          ]
         ],
         "y": [
          [
           -1.0,
           -1.0,
           -1.0,
           -1.0,
           -1.0,
           -1.0,
           -1.0,
           -1.0,
           -1.0
          ],
          [
           -0.75,
           -0.75,
           -0.75,
           -0.75,
           -0.75,
           -0.75,
           -0.75,
           -0.75,
           -0.75
          ],
          [
           -0.5,
           -0.5,
           -0.5,
           -0.5,
           -0.5,
           -0.5,
           -0.5,
           -0.5,
           -0.5
          ],
          [
           -0.25,
           -0.25,
           -0.25,
           -0.25,
           -0.25,
           -0.25,
           -0.25,
           -0.25,
           -0.25
          ],
          [
           0.0,
           0.0,
           0.0,
           0.0,
           0.0,
           0.0,
           0.0,
           0.0,
           0.0
          ],
          [
           0.25,
           0.25,
           0.25,
           0.25,
           0.25,
           0.25,
           0.25,
           0.25,
           0.25
          ],
          [
           0.5,
           0.5,
           0.5,
           0.5,
           0.5,
           0.5,
           0.5,
           0.5,
           0.5
          ],
          [
           0.75,
           0.75,
           0.75,
           0.75,
           0.75,
           0.75,
           0.75,
           0.75,
           0.75
          ],
          [
           1.0,
           1.0,
           1.0,
           1.0,
           1.0,
           1.0,
           1.0,
           1.0,
           1.0
          ]
         ],
         "z": [
          [
           6.710716811093417,
           6.086298769170588,
           5.263023159720681,
           4.671461950648915,
           4.303307771682739,
           4.322162974964488,
           4.250290285457265,
           4.368636889891191,
           5.33409612829035
          ],
          [
           5.977976105429909,
           5.29786374352195,
           4.562225558541038,
           3.859709999778054,
           3.4960568818179043,
           3.4617407105185767,
           3.4241450266404585,
           3.752451181411743,
           4.555202397433194
          ],
          [
           5.156796628778631,
           4.520262241363525,
           3.7958748774095015,
           3.3516939119859175,
           3.0300143415277656,
           2.840000347657637,
           3.0478928956118496,
           3.484511440450495,
           4.477741371501576
          ],
          [
           4.329276778481224,
           3.8591346090490166,
           3.3579551740126177,
           2.8354615731672808,
           2.6341916647824375,
           2.6557901122353296,
           2.868786486712369,
           3.6009663235057485,
           4.686272231015292
          ],
          [
           3.7702282775532114,
           3.2800806869160044,
           3.0255131288008257,
           2.7621099298650567,
           2.5699198679490523,
           2.7433593056418677,
           3.1636145331642846,
           4.087882670489225,
           5.389080047607422
          ],
          [
           3.7500716122713955,
           3.1780777844515713,
           2.9120314554734663,
           2.7599624286998403,
           2.7102522416548296,
           2.9135301329872827,
           3.549040989442305,
           4.675122347745028,
           6.428045749664307
          ],
          [
           4.09422265399586,
           3.440191463990645,
           3.0781488852067427,
           2.924659945748069,
           2.932160485874523,
           3.25720290704207,
           3.974755807356401,
           5.3338916084983135,
           7.13028131831776
          ],
          [
           4.584247155623003,
           3.8265080885453657,
           3.3870087536898525,
           3.3077907995744185,
           3.3068771579048852,
           3.63574236089533,
           4.719235463575884,
           6.057640899311412,
           8.109391082416881
          ],
          [
           5.547167691317472,
           4.606641552665017,
           3.976195443760265,
           3.808722496032715,
           3.999024586244063,
           4.529639200730757,
           5.7377496199174365,
           7.34256007454612,
           9.246660059148615
          ]
         ]
        }
       ],
       "layout": {
        "autosize": true,
        "margin": {
         "b": 65,
         "l": 65,
         "r": 50,
         "t": 90
        },
        "scene": {
         "camera": {
          "eye": {
           "x": 1.87,
           "y": 0.88,
           "z": -0.64
          }
         }
        },
        "title": {
         "text": "Loss / Accuracy"
        }
       }
      }
     },
     "metadata": {},
     "output_type": "display_data"
    },
    {
     "data": {
      "application/vnd.plotly.v1+json": {
       "config": {
        "linkText": "Export to plot.ly",
        "plotlyServerURL": "https://plot.ly",
        "showLink": false
       },
       "data": [
        {
         "colorscale": "Cividis",
         "opacity": 0.6,
         "showscale": false,
         "type": "surface",
         "uid": "ab87220d-f3df-4df1-a528-f056182b2567",
         "x": [
          [
           -1.0,
           -0.75,
           -0.5,
           -0.25,
           0.0,
           0.25,
           0.5,
           0.75,
           1.0
          ],
          [
           -1.0,
           -0.75,
           -0.5,
           -0.25,
           0.0,
           0.25,
           0.5,
           0.75,
           1.0
          ],
          [
           -1.0,
           -0.75,
           -0.5,
           -0.25,
           0.0,
           0.25,
           0.5,
           0.75,
           1.0
          ],
          [
           -1.0,
           -0.75,
           -0.5,
           -0.25,
           0.0,
           0.25,
           0.5,
           0.75,
           1.0
          ],
          [
           -1.0,
           -0.75,
           -0.5,
           -0.25,
           0.0,
           0.25,
           0.5,
           0.75,
           1.0
          ],
          [
           -1.0,
           -0.75,
           -0.5,
           -0.25,
           0.0,
           0.25,
           0.5,
           0.75,
           1.0
          ],
          [
           -1.0,
           -0.75,
           -0.5,
           -0.25,
           0.0,
           0.25,
           0.5,
           0.75,
           1.0
          ],
          [
           -1.0,
           -0.75,
           -0.5,
           -0.25,
           0.0,
           0.25,
           0.5,
           0.75,
           1.0
          ],
          [
           -1.0,
           -0.75,
           -0.5,
           -0.25,
           0.0,
           0.25,
           0.5,
           0.75,
           1.0
          ]
         ],
         "y": [
          [
           -1.0,
           -1.0,
           -1.0,
           -1.0,
           -1.0,
           -1.0,
           -1.0,
           -1.0,
           -1.0
          ],
          [
           -0.75,
           -0.75,
           -0.75,
           -0.75,
           -0.75,
           -0.75,
           -0.75,
           -0.75,
           -0.75
          ],
          [
           -0.5,
           -0.5,
           -0.5,
           -0.5,
           -0.5,
           -0.5,
           -0.5,
           -0.5,
           -0.5
          ],
          [
           -0.25,
           -0.25,
           -0.25,
           -0.25,
           -0.25,
           -0.25,
           -0.25,
           -0.25,
           -0.25
          ],
          [
           0.0,
           0.0,
           0.0,
           0.0,
           0.0,
           0.0,
           0.0,
           0.0,
           0.0
          ],
          [
           0.25,
           0.25,
           0.25,
           0.25,
           0.25,
           0.25,
           0.25,
           0.25,
           0.25
          ],
          [
           0.5,
           0.5,
           0.5,
           0.5,
           0.5,
           0.5,
           0.5,
           0.5,
           0.5
          ],
          [
           0.75,
           0.75,
           0.75,
           0.75,
           0.75,
           0.75,
           0.75,
           0.75,
           0.75
          ],
          [
           1.0,
           1.0,
           1.0,
           1.0,
           1.0,
           1.0,
           1.0,
           1.0,
           1.0
          ]
         ],
         "z": [
          [
           1.5455026702568402,
           1.3912390929178213,
           1.4992235970551344,
           1.653487174394153,
           1.638060816660251,
           1.9928670445399939,
           2.2242624105485214,
           2.1008515486773067,
           1.661200353261104
          ],
          [
           1.5146499547890362,
           1.4683708815873309,
           1.429804987252576,
           1.5455026702568402,
           1.8308902883340243,
           2.0699988332095027,
           1.861743003801828,
           1.645773995527202,
           1.5532158491237908
          ],
          [
           1.46065770272038,
           1.46065770272038,
           1.4760840604542815,
           1.530076312522938,
           1.6149212800593982,
           1.8154639306001223,
           1.7383321419306133,
           1.5686422068576928,
           1.6303476377933002
          ],
          [
           1.537789491389889,
           1.445231344986478,
           1.4992235970551344,
           1.7151926053297606,
           1.8000375728662206,
           1.7768980362653677,
           1.5840685645915946,
           1.3218204831152631,
           1.3449600197161158
          ],
          [
           1.530076312522938,
           1.6920530687289075,
           1.4992235970551344,
           1.6149212800593982,
           1.8000375728662206,
           1.638060816660251,
           1.4375181661195269,
           1.2524018733127047,
           1.1829832635101465
          ],
          [
           1.46065770272038,
           1.5532158491237908,
           1.661200353261104,
           1.6149212800593982,
           1.537789491389889,
           1.46065770272038,
           1.1829832635101465,
           1.0981382959736863,
           0.9438747186346678
          ],
          [
           1.3603863774500178,
           1.3758127351839198,
           1.522363133655987,
           1.638060816660251,
           1.661200353261104,
           1.329533661982214,
           1.2678282310466067,
           1.3603863774500178,
           1.2832545887805085
          ],
          [
           1.5609290279907417,
           1.445231344986478,
           1.4915104181881835,
           1.4529445238534289,
           1.761471678531466,
           1.4529445238534289,
           1.136704190308441,
           1.2986809465144105,
           1.236975515578803
          ],
          [
           1.5609290279907417,
           1.5686422068576928,
           1.661200353261104,
           1.6689135321280546,
           1.6843398898619566,
           1.537789491389889,
           1.3218204831152631,
           1.3989522717847724,
           1.4529445238534289
          ]
         ]
        },
        {
         "colorscale": "Jet",
         "contours": {
          "z": {
           "project": {
            "z": true
           },
           "show": true,
           "usecolormap": true
          }
         },
         "opacity": 0.9,
         "type": "surface",
         "uid": "48891a28-f784-4064-83da-f92588c9eb22",
         "x": [
          [
           -1.0,
           -0.75,
           -0.5,
           -0.25,
           0.0,
           0.25,
           0.5,
           0.75,
           1.0
          ],
          [
           -1.0,
           -0.75,
           -0.5,
           -0.25,
           0.0,
           0.25,
           0.5,
           0.75,
           1.0
          ],
          [
           -1.0,
           -0.75,
           -0.5,
           -0.25,
           0.0,
           0.25,
           0.5,
           0.75,
           1.0
          ],
          [
           -1.0,
           -0.75,
           -0.5,
           -0.25,
           0.0,
           0.25,
           0.5,
           0.75,
           1.0
          ],
          [
           -1.0,
           -0.75,
           -0.5,
           -0.25,
           0.0,
           0.25,
           0.5,
           0.75,
           1.0
          ],
          [
           -1.0,
           -0.75,
           -0.5,
           -0.25,
           0.0,
           0.25,
           0.5,
           0.75,
           1.0
          ],
          [
           -1.0,
           -0.75,
           -0.5,
           -0.25,
           0.0,
           0.25,
           0.5,
           0.75,
           1.0
          ],
          [
           -1.0,
           -0.75,
           -0.5,
           -0.25,
           0.0,
           0.25,
           0.5,
           0.75,
           1.0
          ],
          [
           -1.0,
           -0.75,
           -0.5,
           -0.25,
           0.0,
           0.25,
           0.5,
           0.75,
           1.0
          ]
         ],
         "y": [
          [
           -1.0,
           -1.0,
           -1.0,
           -1.0,
           -1.0,
           -1.0,
           -1.0,
           -1.0,
           -1.0
          ],
          [
           -0.75,
           -0.75,
           -0.75,
           -0.75,
           -0.75,
           -0.75,
           -0.75,
           -0.75,
           -0.75
          ],
          [
           -0.5,
           -0.5,
           -0.5,
           -0.5,
           -0.5,
           -0.5,
           -0.5,
           -0.5,
           -0.5
          ],
          [
           -0.25,
           -0.25,
           -0.25,
           -0.25,
           -0.25,
           -0.25,
           -0.25,
           -0.25,
           -0.25
          ],
          [
           0.0,
           0.0,
           0.0,
           0.0,
           0.0,
           0.0,
           0.0,
           0.0,
           0.0
          ],
          [
           0.25,
           0.25,
           0.25,
           0.25,
           0.25,
           0.25,
           0.25,
           0.25,
           0.25
          ],
          [
           0.5,
           0.5,
           0.5,
           0.5,
           0.5,
           0.5,
           0.5,
           0.5,
           0.5
          ],
          [
           0.75,
           0.75,
           0.75,
           0.75,
           0.75,
           0.75,
           0.75,
           0.75,
           0.75
          ],
          [
           1.0,
           1.0,
           1.0,
           1.0,
           1.0,
           1.0,
           1.0,
           1.0,
           1.0
          ]
         ],
         "z": [
          [
           1.9037057725646116,
           1.806040141490776,
           1.6607056068409036,
           1.5414720742212165,
           1.4593839762075185,
           1.4637559656024677,
           1.4469872830643515,
           1.4744510359389051,
           1.6741194473991472
          ],
          [
           1.7880820667694335,
           1.6673036720446242,
           1.5178105655467835,
           1.3505920510631928,
           1.251635728203804,
           1.2417715580851085,
           1.2308518132938582,
           1.3224092748237304,
           1.5162699638483983
          ],
          [
           1.640315578335926,
           1.5085700101619406,
           1.3339149185104133,
           1.2094658634103637,
           1.1085673526875568,
           1.0438041745877682,
           1.114450497972045,
           1.2483278451312518,
           1.4991187611494745
          ],
          [
           1.4654005023091299,
           1.3504429637944984,
           1.2113322095527355,
           1.042204736331899,
           0.9685763663467033,
           0.9767422044838434,
           1.0538891134255295,
           1.2812022326390449,
           1.5446374329383632
          ],
          [
           1.3271355507018994,
           1.187868021762999,
           1.1070807064530173,
           1.0159948550151472,
           0.9438747186346678,
           1.0091831934032223,
           1.1517152135216733,
           1.4080271515328753,
           1.6843746927299676
          ],
          [
           1.321774936405687,
           1.156276543728012,
           1.0688509322930853,
           1.0152170668464908,
           0.997041708661525,
           1.069365450086476,
           1.266677423172841,
           1.5422553330388529,
           1.8606705650970305
          ],
          [
           1.4095768712013625,
           1.2355271279732658,
           1.1243284050092843,
           1.0731782160614425,
           1.0757395185000216,
           1.1808688231076994,
           1.3799633141076686,
           1.674081104686893,
           1.964350689232392
          ],
          [
           1.522625894979693,
           1.3419526610890373,
           1.219947158328856,
           1.1962805344042329,
           1.1960042872271361,
           1.290813315965129,
           1.551646808421645,
           1.8013204337453175,
           2.0930227829924593
          ],
          [
           1.713287471609024,
           1.5274990779919408,
           1.3803254434615353,
           1.337293830033478,
           1.386050477943822,
           1.5106422896851788,
           1.7470670811796953,
           1.993687565813534,
           2.224262411634537
          ]
         ]
        }
       ],
       "layout": {
        "autosize": true,
        "margin": {
         "b": 65,
         "l": 65,
         "r": 50,
         "t": 90
        },
        "scene": {
         "camera": {
          "eye": {
           "x": 1.87,
           "y": 0.88,
           "z": -0.64
          }
         }
        },
        "title": {
         "text": "Log Scale Loss / Accuracy"
        }
       }
      }
     },
     "metadata": {},
     "output_type": "display_data"
    }
   ],
   "source": [
    "create_viz(loss_list,acc_list)"
   ]
  },
  {
   "cell_type": "markdown",
   "metadata": {},
   "source": [
    "## Swish"
   ]
  },
  {
   "cell_type": "code",
   "execution_count": 31,
   "metadata": {},
   "outputs": [],
   "source": [
    "direction1 = []\n",
    "dimension  = (0,2)\n",
    "for w in copy_of_the_weights_swish:\n",
    "    if w.dim() == 4:\n",
    "        random_vector = torch.randn(w.shape) \n",
    "        random_vector = random_vector * (w.norm()/(random_vector.norm()+1e-8))\n",
    "        direction1.append(random_vector)\n",
    "    else:\n",
    "        direction1.append(torch.zeros_like(w))"
   ]
  },
  {
   "cell_type": "code",
   "execution_count": 32,
   "metadata": {},
   "outputs": [],
   "source": [
    "direction2 = []\n",
    "dimension  = (1,3)\n",
    "for w in copy_of_the_weights_swish:\n",
    "    if w.dim() == 4:\n",
    "        random_vector = torch.randn(w.shape) \n",
    "        random_vector = random_vector * (w.norm()/(random_vector.norm()+1e-8))\n",
    "        direction2.append(random_vector)\n",
    "    else:\n",
    "        direction2.append(torch.zeros_like(w))"
   ]
  },
  {
   "cell_type": "code",
   "execution_count": 33,
   "metadata": {},
   "outputs": [
    {
     "data": {
      "image/png": "[encoded data removed]",
      "text/plain": [
       "<Figure size 3960x432 with 9 Axes>"
      ]
     },
     "metadata": {
      "needs_background": "light"
     },
     "output_type": "display_data"
    }
   ],
   "source": [
    "viz_histogram_weights(copy_of_the_weights_swish[:9],direction1,direction2) # plot for the 1st 9 layers"
   ]
  },
  {
   "cell_type": "code",
   "execution_count": 34,
   "metadata": {},
   "outputs": [],
   "source": [
    "# Set up the direction \n",
    "current_direction1 = direction1\n",
    "current_direction2 = direction2\n",
    "current_loader     = trainloader"
   ]
  },
  {
   "cell_type": "code",
   "execution_count": 35,
   "metadata": {},
   "outputs": [
    {
     "name": "stdout",
     "output_type": "stream",
     "text": [
      "count: 0\tCoord: [-1. -1.]\t\tAcc: 7.599431818181818\tLoss: 5.457\n",
      "count: 2\tCoord: [-0.5 -1. ]\t\tAcc: 9.588068181818182\tLoss: 4.11\n",
      "count: 4\tCoord: [ 0. -1.]\t\tAcc: 10.227272727272727\tLoss: 3.473\n",
      "count: 6\tCoord: [ 0.5 -1. ]\t\tAcc: 10.9375\tLoss: 3.605\n",
      "count: 8\tCoord: [ 1. -1.]\t\tAcc: 9.303977272727273\tLoss: 4.707\n",
      "count: 10\tCoord: [-0.75 -0.75]\t\tAcc: 8.380681818181818\tLoss: 3.897\n",
      "count: 12\tCoord: [-0.25 -0.75]\t\tAcc: 7.954545454545454\tLoss: 3.254\n",
      "count: 14\tCoord: [ 0.25 -0.75]\t\tAcc: 11.079545454545455\tLoss: 2.915\n",
      "count: 16\tCoord: [ 0.75 -0.75]\t\tAcc: 11.71875\tLoss: 3.308\n",
      "count: 18\tCoord: [-1.  -0.5]\t\tAcc: 8.877840909090908\tLoss: 3.742\n",
      "count: 20\tCoord: [-0.5 -0.5]\t\tAcc: 8.522727272727273\tLoss: 3.045\n",
      "count: 22\tCoord: [ 0.  -0.5]\t\tAcc: 8.664772727272727\tLoss: 2.713\n",
      "count: 24\tCoord: [ 0.5 -0.5]\t\tAcc: 10.795454545454545\tLoss: 2.779\n",
      "count: 26\tCoord: [ 1.  -0.5]\t\tAcc: 8.806818181818182\tLoss: 3.709\n",
      "count: 28\tCoord: [-0.75 -0.25]\t\tAcc: 9.375\tLoss: 3.021\n",
      "count: 30\tCoord: [-0.25 -0.25]\t\tAcc: 10.085227272727273\tLoss: 2.742\n",
      "count: 32\tCoord: [ 0.25 -0.25]\t\tAcc: 11.008522727272727\tLoss: 2.52\n",
      "count: 34\tCoord: [ 0.75 -0.25]\t\tAcc: 10.9375\tLoss: 2.892\n",
      "count: 36\tCoord: [-1.  0.]\t\tAcc: 13.565340909090908\tLoss: 3.055\n",
      "count: 38\tCoord: [-0.5  0. ]\t\tAcc: 12.713068181818182\tLoss: 2.646\n",
      "count: 40\tCoord: [0. 0.]\t\tAcc: 11.505681818181818\tLoss: 2.553\n",
      "count: 42\tCoord: [0.5 0. ]\t\tAcc: 11.931818181818182\tLoss: 2.694\n",
      "count: 44\tCoord: [1. 0.]\t\tAcc: 10.653409090909092\tLoss: 3.618\n",
      "count: 46\tCoord: [-0.75  0.25]\t\tAcc: 14.914772727272727\tLoss: 2.9\n",
      "count: 48\tCoord: [-0.25  0.25]\t\tAcc: 11.363636363636363\tLoss: 2.667\n",
      "count: 50\tCoord: [0.25 0.25]\t\tAcc: 9.588068181818182\tLoss: 2.709\n",
      "count: 52\tCoord: [0.75 0.25]\t\tAcc: 9.943181818181818\tLoss: 3.318\n",
      "count: 54\tCoord: [-1.   0.5]\t\tAcc: 15.269886363636363\tLoss: 3.574\n",
      "count: 56\tCoord: [-0.5  0.5]\t\tAcc: 16.40625\tLoss: 2.879\n",
      "count: 58\tCoord: [0.  0.5]\t\tAcc: 12.642045454545455\tLoss: 2.778\n",
      "count: 60\tCoord: [0.5 0.5]\t\tAcc: 9.517045454545455\tLoss: 3.233\n",
      "count: 62\tCoord: [1.  0.5]\t\tAcc: 9.375\tLoss: 4.292\n",
      "count: 64\tCoord: [-0.75  0.75]\t\tAcc: 14.84375\tLoss: 3.815\n",
      "count: 66\tCoord: [-0.25  0.75]\t\tAcc: 14.630681818181818\tLoss: 3.154\n",
      "count: 68\tCoord: [0.25 0.75]\t\tAcc: 10.582386363636363\tLoss: 3.334\n",
      "count: 70\tCoord: [0.75 0.75]\t\tAcc: 11.434659090909092\tLoss: 4.193\n",
      "count: 72\tCoord: [-1.  1.]\t\tAcc: 11.434659090909092\tLoss: 5.502\n",
      "count: 74\tCoord: [-0.5  1. ]\t\tAcc: 15.909090909090908\tLoss: 4.168\n",
      "count: 76\tCoord: [0. 1.]\t\tAcc: 12.002840909090908\tLoss: 3.518\n",
      "count: 78\tCoord: [0.5 1. ]\t\tAcc: 8.877840909090908\tLoss: 4.163\n",
      "count: 80\tCoord: [1. 1.]\t\tAcc: 11.008522727272727\tLoss: 5.497\n"
     ]
    }
   ],
   "source": [
    "# start the evaluation\n",
    "loss_list = np.zeros((numebr_of_points,numebr_of_points)); acc_list  = np.zeros((numebr_of_points,numebr_of_points))\n",
    "col_value = 0\n",
    "\n",
    "for count, ind in enumerate(inds):\n",
    "    \n",
    "    # change the weight values\n",
    "    coord   = coordinate[count]\n",
    "    changes = [d0.cuda()*coord[0] + d1.cuda()*coord[1] for (d0, d1) in zip(current_direction1, current_direction2)]\n",
    "    for (p, w, d) in zip(model_swish.parameters(), weight_relu, changes):\n",
    "        w = w.type(torch.FloatTensor)\n",
    "        w = w.cuda()\n",
    "        d = d.type(torch.FloatTensor)\n",
    "        d = d.cuda()\n",
    "        p.data = w + d\n",
    "\n",
    "    # start the evaluation\n",
    "    correct = 0; total_loss = 0; total = 0 \n",
    "    with torch.no_grad():\n",
    "        for batch_idx, (inputs, targets) in enumerate(current_loader):\n",
    "            batch_size = inputs.size(0)\n",
    "            total      = total + batch_size\n",
    "            \n",
    "            inputs, targets = Variable(inputs).cuda(),Variable(targets).cuda()\n",
    "            \n",
    "            outputs = model_swish(inputs)\n",
    "            loss    = criterion(outputs, targets)\n",
    "            total_loss   = total_loss + loss.item()*batch_size\n",
    "            _, predicted = torch.max(outputs.data, 1)\n",
    "            correct      = correct + predicted.eq(targets).sum().item()\n",
    "            sys.stdout.write(\"Coord: \"+str(coord)+\"\\tAcc: \"+str(predicted.eq(targets).sum().item())+\"\\tLoss: \"+str(np.around(loss.item(),3))+\"\\r\")\n",
    "            sys.stdout.flush()\n",
    "            \n",
    "            if batch_idx==10: break\n",
    "            \n",
    "        if count % 2 == 0 : sys.stdout.write(\"count: \"+str(count)+\"\\tCoord: \"+str(coord)+\"\\t\\tAcc: \"+str(100.*correct/total)+\"\\tLoss: \"+str(np.around(total_loss/total,3))+\"\\n\")\n",
    "        \n",
    "    # store value \n",
    "    loss_list[col_value][ind%numebr_of_points] = total_loss/total\n",
    "    acc_list [col_value][ind%numebr_of_points] = 100.*correct/total\n",
    "    ind_compare = ind + 1\n",
    "    if ind_compare % numebr_of_points == 0 :  col_value = col_value + 1"
   ]
  },
  {
   "cell_type": "code",
   "execution_count": 36,
   "metadata": {},
   "outputs": [
    {
     "data": {
      "image/png": "[encoded data removed]",
      "text/plain": [
       "<Figure size 1296x432 with 4 Axes>"
      ]
     },
     "metadata": {
      "needs_background": "light"
     },
     "output_type": "display_data"
    },
    {
     "data": {
      "application/vnd.plotly.v1+json": {
       "config": {
        "linkText": "Export to plot.ly",
        "plotlyServerURL": "https://plot.ly",
        "showLink": false
       },
       "data": [
        {
         "colorscale": "Cividis",
         "opacity": 0.6,
         "showscale": false,
         "type": "surface",
         "uid": "01d334bb-c0be-48e3-85c5-f22c59c72545",
         "x": [
          [
           -1.0,
           -0.75,
           -0.5,
           -0.25,
           0.0,
           0.25,
           0.5,
           0.75,
           1.0
          ],
          [
           -1.0,
           -0.75,
           -0.5,
           -0.25,
           0.0,
           0.25,
           0.5,
           0.75,
           1.0
          ],
          [
           -1.0,
           -0.75,
           -0.5,
           -0.25,
           0.0,
           0.25,
           0.5,
           0.75,
           1.0
          ],
          [
           -1.0,
           -0.75,
           -0.5,
           -0.25,
           0.0,
           0.25,
           0.5,
           0.75,
           1.0
          ],
          [
           -1.0,
           -0.75,
           -0.5,
           -0.25,
           0.0,
           0.25,
           0.5,
           0.75,
           1.0
          ],
          [
           -1.0,
           -0.75,
           -0.5,
           -0.25,
           0.0,
           0.25,
           0.5,
           0.75,
           1.0
          ],
          [
           -1.0,
           -0.75,
           -0.5,
           -0.25,
           0.0,
           0.25,
           0.5,
           0.75,
           1.0
          ],
          [
           -1.0,
           -0.75,
           -0.5,
           -0.25,
           0.0,
           0.25,
           0.5,
           0.75,
           1.0
          ],
          [
           -1.0,
           -0.75,
           -0.5,
           -0.25,
           0.0,
           0.25,
           0.5,
           0.75,
           1.0
          ]
         ],
         "y": [
          [
           -1.0,
           -1.0,
           -1.0,
           -1.0,
           -1.0,
           -1.0,
           -1.0,
           -1.0,
           -1.0
          ],
          [
           -0.75,
           -0.75,
           -0.75,
           -0.75,
           -0.75,
           -0.75,
           -0.75,
           -0.75,
           -0.75
          ],
          [
           -0.5,
           -0.5,
           -0.5,
           -0.5,
           -0.5,
           -0.5,
           -0.5,
           -0.5,
           -0.5
          ],
          [
           -0.25,
           -0.25,
           -0.25,
           -0.25,
           -0.25,
           -0.25,
           -0.25,
           -0.25,
           -0.25
          ],
          [
           0.0,
           0.0,
           0.0,
           0.0,
           0.0,
           0.0,
           0.0,
           0.0,
           0.0
          ],
          [
           0.25,
           0.25,
           0.25,
           0.25,
           0.25,
           0.25,
           0.25,
           0.25,
           0.25
          ],
          [
           0.5,
           0.5,
           0.5,
           0.5,
           0.5,
           0.5,
           0.5,
           0.5,
           0.5
          ],
          [
           0.75,
           0.75,
           0.75,
           0.75,
           0.75,
           0.75,
           0.75,
           0.75,
           0.75
          ],
          [
           1.0,
           1.0,
           1.0,
           1.0,
           1.0,
           1.0,
           1.0,
           1.0,
           1.0
          ]
         ],
         "z": [
          [
           2.519808227365667,
           3.107240218134944,
           3.152427294347966,
           2.881304837069838,
           3.3557691373065612,
           3.6042980564781786,
           3.5817045183716685,
           3.0394596038154122,
           3.0620531419219232
          ],
          [
           3.265394984880519,
           2.7683371465372844,
           3.129833756241455,
           2.63277591789822,
           3.3557691373065612,
           3.6268915945846896,
           3.2879885229870296,
           3.830233437543286,
           3.7172657470107326
          ],
          [
           2.9264919132828586,
           2.7005565322177523,
           2.813524222750306,
           2.881304837069838,
           2.8587112989633265,
           4.395071890206053,
           3.536517442158647,
           3.468736827839115,
           2.903898375176348
          ],
          [
           3.0620531419219232,
           3.084646680028434,
           3.6946722089042217,
           3.3105820610935406,
           3.2879885229870296,
           3.6042980564781786,
           4.101355894821413,
           3.5817045183716685,
           3.5817045183716685
          ],
          [
           4.417665428312563,
           3.96579466618235,
           4.146542971034435,
           3.559110980265158,
           3.7624528232237537,
           4.078762356714903,
           3.898014051862818,
           3.559110980265158,
           3.491330365945626
          ],
          [
           4.372478352099542,
           4.846942652336265,
           4.779162038016734,
           3.7172657470107326,
           3.084646680028434,
           3.152427294347966,
           2.9490854513893696,
           3.265394984880519,
           3.5139239040521364
          ],
          [
           4.959910342868819,
           5.502155257425075,
           5.32140695257299,
           4.508039580738606,
           4.123949432927924,
           3.084646680028434,
           3.129833756241455,
           3.7624528232237537,
           3.084646680028434
          ],
          [
           4.688787885590692,
           4.824349114229755,
           5.163252185827415,
           4.756568499910223,
           3.491330365945626,
           3.468736827839115,
           3.2202079086674975,
           3.739859285117243,
           3.2879885229870296
          ],
          [
           3.739859285117243,
           4.508039580738606,
           5.163252185827415,
           4.553226656951628,
           3.920607589969328,
           2.903898375176348,
           2.9264919132828586,
           3.333175599200051,
           3.6042980564781786
          ]
         ]
        },
        {
         "colorscale": "Jet",
         "contours": {
          "z": {
           "project": {
            "z": true
           },
           "show": true,
           "usecolormap": true
          }
         },
         "opacity": 0.9,
         "type": "surface",
         "uid": "71dd79e2-76e8-47f3-9dd6-16fd1ec2d89b",
         "x": [
          [
           -1.0,
           -0.75,
           -0.5,
           -0.25,
           0.0,
           0.25,
           0.5,
           0.75,
           1.0
          ],
          [
           -1.0,
           -0.75,
           -0.5,
           -0.25,
           0.0,
           0.25,
           0.5,
           0.75,
           1.0
          ],
          [
           -1.0,
           -0.75,
           -0.5,
           -0.25,
           0.0,
           0.25,
           0.5,
           0.75,
           1.0
          ],
          [
           -1.0,
           -0.75,
           -0.5,
           -0.25,
           0.0,
           0.25,
           0.5,
           0.75,
           1.0
          ],
          [
           -1.0,
           -0.75,
           -0.5,
           -0.25,
           0.0,
           0.25,
           0.5,
           0.75,
           1.0
          ],
          [
           -1.0,
           -0.75,
           -0.5,
           -0.25,
           0.0,
           0.25,
           0.5,
           0.75,
           1.0
          ],
          [
           -1.0,
           -0.75,
           -0.5,
           -0.25,
           0.0,
           0.25,
           0.5,
           0.75,
           1.0
          ],
          [
           -1.0,
           -0.75,
           -0.5,
           -0.25,
           0.0,
           0.25,
           0.5,
           0.75,
           1.0
          ],
          [
           -1.0,
           -0.75,
           -0.5,
           -0.25,
           0.0,
           0.25,
           0.5,
           0.75,
           1.0
          ]
         ],
         "y": [
          [
           -1.0,
           -1.0,
           -1.0,
           -1.0,
           -1.0,
           -1.0,
           -1.0,
           -1.0,
           -1.0
          ],
          [
           -0.75,
           -0.75,
           -0.75,
           -0.75,
           -0.75,
           -0.75,
           -0.75,
           -0.75,
           -0.75
          ],
          [
           -0.5,
           -0.5,
           -0.5,
           -0.5,
           -0.5,
           -0.5,
           -0.5,
           -0.5,
           -0.5
          ],
          [
           -0.25,
           -0.25,
           -0.25,
           -0.25,
           -0.25,
           -0.25,
           -0.25,
           -0.25,
           -0.25
          ],
          [
           0.0,
           0.0,
           0.0,
           0.0,
           0.0,
           0.0,
           0.0,
           0.0,
           0.0
          ],
          [
           0.25,
           0.25,
           0.25,
           0.25,
           0.25,
           0.25,
           0.25,
           0.25,
           0.25
          ],
          [
           0.5,
           0.5,
           0.5,
           0.5,
           0.5,
           0.5,
           0.5,
           0.5,
           0.5
          ],
          [
           0.75,
           0.75,
           0.75,
           0.75,
           0.75,
           0.75,
           0.75,
           0.75,
           0.75
          ],
          [
           1.0,
           1.0,
           1.0,
           1.0,
           1.0,
           1.0,
           1.0,
           1.0,
           1.0
          ]
         ],
         "z": [
          [
           5.457474058324641,
           4.576945564963601,
           4.110233220187101,
           3.6792545968836006,
           3.473439996892756,
           3.4007104743610728,
           3.6049679842862217,
           3.9946831573139536,
           4.7072978453202685
          ],
          [
           4.463215936313976,
           3.8973639661615547,
           3.5050178441134365,
           3.2538786367936567,
           2.995326519012451,
           2.9145925261757593,
           3.126120545647361,
           3.30784104087136,
           3.921017820184881
          ],
          [
           3.742391131140969,
           3.359707333824851,
           3.0452166470614346,
           2.8284047733653677,
           2.7130238793113013,
           2.6551217165860264,
           2.778794115239924,
           3.0753790682012383,
           3.709333159706809
          ],
          [
           3.433048356663097,
           3.021205251867121,
           2.8020903197201816,
           2.742048133503307,
           2.581314585425637,
           2.519808227365667,
           2.645600752397017,
           2.891646840355613,
           3.4212681596929375
          ],
          [
           3.0547275976701216,
           2.832218300212513,
           2.6459281661293725,
           2.5739759531888096,
           2.5531892343000933,
           2.5313405990600586,
           2.693701310591264,
           2.9674507921392266,
           3.6176615194840864
          ],
          [
           3.2713558240370317,
           2.9001718867908823,
           2.7162894118915903,
           2.6674441424283115,
           2.658235788345337,
           2.708537296815352,
           2.9064698219299316,
           3.318398280577226,
           3.838444167917425
          ],
          [
           3.5741562193090264,
           3.1421411470933394,
           2.8788056807084517,
           2.8829369978471235,
           2.7779239307750356,
           3.0613097927787085,
           3.2334553328427402,
           3.613346359946511,
           4.291546973315152
          ],
          [
           4.330058661374179,
           3.8145406896417793,
           3.3644980734044854,
           3.154357606714422,
           3.1198859865015205,
           3.3336203531785444,
           3.5987037528644907,
           4.192855379798195,
           4.7075514793396
          ],
          [
           5.502155260606245,
           4.741016604683616,
           4.167918855493719,
           3.7365622520446777,
           3.517845782366666,
           3.8430884317918257,
           4.163068619641391,
           4.817741567438299,
           5.496966708790172
          ]
         ]
        }
       ],
       "layout": {
        "autosize": true,
        "margin": {
         "b": 65,
         "l": 65,
         "r": 50,
         "t": 90
        },
        "scene": {
         "camera": {
          "eye": {
           "x": 1.87,
           "y": 0.88,
           "z": -0.64
          }
         }
        },
        "title": {
         "text": "Loss / Accuracy"
        }
       }
      }
     },
     "metadata": {},
     "output_type": "display_data"
    },
    {
     "data": {
      "application/vnd.plotly.v1+json": {
       "config": {
        "linkText": "Export to plot.ly",
        "plotlyServerURL": "https://plot.ly",
        "showLink": false
       },
       "data": [
        {
         "colorscale": "Cividis",
         "opacity": 0.6,
         "showscale": false,
         "type": "surface",
         "uid": "f3eff8f7-e44d-408b-9459-ecf3d9cab39b",
         "x": [
          [
           -1.0,
           -0.75,
           -0.5,
           -0.25,
           0.0,
           0.25,
           0.5,
           0.75,
           1.0
          ],
          [
           -1.0,
           -0.75,
           -0.5,
           -0.25,
           0.0,
           0.25,
           0.5,
           0.75,
           1.0
          ],
          [
           -1.0,
           -0.75,
           -0.5,
           -0.25,
           0.0,
           0.25,
           0.5,
           0.75,
           1.0
          ],
          [
           -1.0,
           -0.75,
           -0.5,
           -0.25,
           0.0,
           0.25,
           0.5,
           0.75,
           1.0
          ],
          [
           -1.0,
           -0.75,
           -0.5,
           -0.25,
           0.0,
           0.25,
           0.5,
           0.75,
           1.0
          ],
          [
           -1.0,
           -0.75,
           -0.5,
           -0.25,
           0.0,
           0.25,
           0.5,
           0.75,
           1.0
          ],
          [
           -1.0,
           -0.75,
           -0.5,
           -0.25,
           0.0,
           0.25,
           0.5,
           0.75,
           1.0
          ],
          [
           -1.0,
           -0.75,
           -0.5,
           -0.25,
           0.0,
           0.25,
           0.5,
           0.75,
           1.0
          ],
          [
           -1.0,
           -0.75,
           -0.5,
           -0.25,
           0.0,
           0.25,
           0.5,
           0.75,
           1.0
          ]
         ],
         "y": [
          [
           -1.0,
           -1.0,
           -1.0,
           -1.0,
           -1.0,
           -1.0,
           -1.0,
           -1.0,
           -1.0
          ],
          [
           -0.75,
           -0.75,
           -0.75,
           -0.75,
           -0.75,
           -0.75,
           -0.75,
           -0.75,
           -0.75
          ],
          [
           -0.5,
           -0.5,
           -0.5,
           -0.5,
           -0.5,
           -0.5,
           -0.5,
           -0.5,
           -0.5
          ],
          [
           -0.25,
           -0.25,
           -0.25,
           -0.25,
           -0.25,
           -0.25,
           -0.25,
           -0.25,
           -0.25
          ],
          [
           0.0,
           0.0,
           0.0,
           0.0,
           0.0,
           0.0,
           0.0,
           0.0,
           0.0
          ],
          [
           0.25,
           0.25,
           0.25,
           0.25,
           0.25,
           0.25,
           0.25,
           0.25,
           0.25
          ],
          [
           0.5,
           0.5,
           0.5,
           0.5,
           0.5,
           0.5,
           0.5,
           0.5,
           0.5
          ],
          [
           0.75,
           0.75,
           0.75,
           0.75,
           0.75,
           0.75,
           0.75,
           0.75,
           0.75
          ],
          [
           1.0,
           1.0,
           1.0,
           1.0,
           1.0,
           1.0,
           1.0,
           1.0,
           1.0
          ]
         ],
         "z": [
          [
           0.9241827983758414,
           1.078007678131235,
           1.0898403611893426,
           1.0188442628406993,
           1.1430874349508249,
           1.2081671917704147,
           1.2022508502413611,
           1.0602586535440743,
           1.066174995073128
          ],
          [
           1.1194220688346106,
           0.9892625551954312,
           1.0839240196602888,
           0.9537645060211094,
           1.1430874349508249,
           1.2140835332994684,
           1.125338410363664,
           1.2673306070609507,
           1.2377488994156827
          ],
          [
           1.0306769458988063,
           0.9715135306082703,
           1.0010952382535383,
           1.0188442628406993,
           1.0129279213116456,
           1.4152391452872912,
           1.1904181671832539,
           1.1726691425960931,
           1.0247606043697528
          ],
          [
           1.066174995073128,
           1.0720913366021816,
           1.2318325578866292,
           1.1312547518927178,
           1.125338410363664,
           1.2081671917704147,
           1.3383267054095942,
           1.2022508502413611,
           1.2022508502413611
          ],
          [
           1.4211554868163447,
           1.3028286562352724,
           1.3501593884677012,
           1.1963345087123076,
           1.2495815824737901,
           1.3324103638805405,
           1.2850796316481117,
           1.1963345087123076,
           1.1785854841251466
          ],
          [
           1.4093228037582375,
           1.5335659758683633,
           1.5158169512812025,
           1.2377488994156827,
           1.0720913366021816,
           1.0898403611893426,
           1.03659328742786,
           1.1194220688346106,
           1.1845018256542004
          ],
          [
           1.5631476835136313,
           1.705139880210918,
           1.6578091479784893,
           1.4448208529325592,
           1.3442430469386477,
           1.0720913366021816,
           1.0839240196602888,
           1.2495815824737901,
           1.0720913366021816
          ],
          [
           1.492151585164988,
           1.5276496343393098,
           1.6163947572751138,
           1.5099006097521488,
           1.1785854841251466,
           1.1726691425960931,
           1.1075893857765033,
           1.2436652409447364,
           1.125338410363664
          ],
          [
           1.2436652409447364,
           1.4448208529325592,
           1.6163947572751138,
           1.4566535359906663,
           1.2909959731771652,
           1.0247606043697528,
           1.0306769458988063,
           1.1371710934217714,
           1.2081671917704147
          ]
         ]
        },
        {
         "colorscale": "Jet",
         "contours": {
          "z": {
           "project": {
            "z": true
           },
           "show": true,
           "usecolormap": true
          }
         },
         "opacity": 0.9,
         "type": "surface",
         "uid": "53ac42ea-25f1-48dc-a2fa-0ad26a3a78b9",
         "x": [
          [
           -1.0,
           -0.75,
           -0.5,
           -0.25,
           0.0,
           0.25,
           0.5,
           0.75,
           1.0
          ],
          [
           -1.0,
           -0.75,
           -0.5,
           -0.25,
           0.0,
           0.25,
           0.5,
           0.75,
           1.0
          ],
          [
           -1.0,
           -0.75,
           -0.5,
           -0.25,
           0.0,
           0.25,
           0.5,
           0.75,
           1.0
          ],
          [
           -1.0,
           -0.75,
           -0.5,
           -0.25,
           0.0,
           0.25,
           0.5,
           0.75,
           1.0
          ],
          [
           -1.0,
           -0.75,
           -0.5,
           -0.25,
           0.0,
           0.25,
           0.5,
           0.75,
           1.0
          ],
          [
           -1.0,
           -0.75,
           -0.5,
           -0.25,
           0.0,
           0.25,
           0.5,
           0.75,
           1.0
          ],
          [
           -1.0,
           -0.75,
           -0.5,
           -0.25,
           0.0,
           0.25,
           0.5,
           0.75,
           1.0
          ],
          [
           -1.0,
           -0.75,
           -0.5,
           -0.25,
           0.0,
           0.25,
           0.5,
           0.75,
           1.0
          ],
          [
           -1.0,
           -0.75,
           -0.5,
           -0.25,
           0.0,
           0.25,
           0.5,
           0.75,
           1.0
          ]
         ],
         "y": [
          [
           -1.0,
           -1.0,
           -1.0,
           -1.0,
           -1.0,
           -1.0,
           -1.0,
           -1.0,
           -1.0
          ],
          [
           -0.75,
           -0.75,
           -0.75,
           -0.75,
           -0.75,
           -0.75,
           -0.75,
           -0.75,
           -0.75
          ],
          [
           -0.5,
           -0.5,
           -0.5,
           -0.5,
           -0.5,
           -0.5,
           -0.5,
           -0.5,
           -0.5
          ],
          [
           -0.25,
           -0.25,
           -0.25,
           -0.25,
           -0.25,
           -0.25,
           -0.25,
           -0.25,
           -0.25
          ],
          [
           0.0,
           0.0,
           0.0,
           0.0,
           0.0,
           0.0,
           0.0,
           0.0,
           0.0
          ],
          [
           0.25,
           0.25,
           0.25,
           0.25,
           0.25,
           0.25,
           0.25,
           0.25,
           0.25
          ],
          [
           0.5,
           0.5,
           0.5,
           0.5,
           0.5,
           0.5,
           0.5,
           0.5,
           0.5
          ],
          [
           0.75,
           0.75,
           0.75,
           0.75,
           0.75,
           0.75,
           0.75,
           0.75,
           0.75
          ],
          [
           1.0,
           1.0,
           1.0,
           1.0,
           1.0,
           1.0,
           1.0,
           1.0,
           1.0
          ]
         ],
         "z": [
          [
           1.6969860560316063,
           1.5210318684313686,
           1.4134797714693017,
           1.3027101764690918,
           1.2451454564637356,
           1.2239843728397535,
           1.2823128897782594,
           1.3849642662642763,
           1.549114037519339
          ],
          [
           1.495869568145508,
           1.3603004184956613,
           1.254195611518797,
           1.1798477114798152,
           1.0970532469981202,
           1.069730024843177,
           1.1397927935230097,
           1.1962957230659221,
           1.3663512681060086
          ],
          [
           1.319724747013035,
           1.2118538671531056,
           1.1135720470911699,
           1.0397128684022197,
           0.9980638354483433,
           0.976490497931607,
           1.0220170621000453,
           1.1234281678726248,
           1.3108521191450175
          ],
          [
           1.233448600208887,
           1.1056558417937625,
           1.0303656814139335,
           1.0087051351448055,
           0.9482987984023264,
           0.9241827983758414,
           0.9728981670810123,
           1.0618261807801368,
           1.2300112892703747
          ],
          [
           1.116690422582602,
           1.0410602562690734,
           0.9730219172249931,
           0.9454517669348067,
           0.9373432578391339,
           0.9287490434534437,
           0.9909161997520478,
           1.0877032651027756,
           1.2858278280040307
          ],
          [
           1.1852045240637101,
           1.0647700065431547,
           0.9992667621534048,
           0.9811207639289067,
           0.9776626652901842,
           0.9964087463054272,
           1.0669392251464562,
           1.199482220904801,
           1.3450671198934425
          ],
          [
           1.2737291257173589,
           1.1449044615148682,
           1.0573755139399819,
           1.0588095654334837,
           1.0217038612268694,
           1.1188428612384342,
           1.1735513279364338,
           1.2846343124881403,
           1.4566472677797906
          ],
          [
           1.4655810895841028,
           1.3388202615883253,
           1.2132787910214575,
           1.1487848640775868,
           1.1377964583657127,
           1.2040589065725944,
           1.2805737119730307,
           1.433381976727643,
           1.5491679170899295
          ],
          [
           1.7051398810439389,
           1.556251586272763,
           1.4274168358099502,
           1.3181660047725534,
           1.2578488086196213,
           1.3462763224529601,
           1.4262524512961583,
           1.5723052637831783,
           1.7041964326095331
          ]
         ]
        }
       ],
       "layout": {
        "autosize": true,
        "margin": {
         "b": 65,
         "l": 65,
         "r": 50,
         "t": 90
        },
        "scene": {
         "camera": {
          "eye": {
           "x": 1.87,
           "y": 0.88,
           "z": -0.64
          }
         }
        },
        "title": {
         "text": "Log Scale Loss / Accuracy"
        }
       }
      }
     },
     "metadata": {},
     "output_type": "display_data"
    }
   ],
   "source": [
    "create_viz(loss_list,acc_list)"
   ]
  },
  {
   "cell_type": "markdown",
   "metadata": {},
   "source": [
    "## Mish"
   ]
  },
  {
   "cell_type": "code",
   "execution_count": 37,
   "metadata": {},
   "outputs": [],
   "source": [
    "direction1 = []\n",
    "dimension  = (0,2)\n",
    "for w in copy_of_the_weights_mish:\n",
    "    if w.dim() == 4:\n",
    "        random_vector = torch.randn(w.shape) \n",
    "        random_vector = random_vector * (w.norm()/(random_vector.norm()+1e-8))\n",
    "        direction1.append(random_vector)\n",
    "    else:\n",
    "        direction1.append(torch.zeros_like(w))"
   ]
  },
  {
   "cell_type": "code",
   "execution_count": 38,
   "metadata": {},
   "outputs": [],
   "source": [
    "direction2 = []\n",
    "dimension  = (1,3)\n",
    "for w in copy_of_the_weights_mish:\n",
    "    if w.dim() == 4:\n",
    "        random_vector = torch.randn(w.shape) \n",
    "        random_vector = random_vector * (w.norm()/(random_vector.norm()+1e-8))\n",
    "        direction2.append(random_vector)\n",
    "    else:\n",
    "        direction2.append(torch.zeros_like(w))"
   ]
  },
  {
   "cell_type": "code",
   "execution_count": 39,
   "metadata": {},
   "outputs": [
    {
     "data": {
      "image/png": "[encoded data removed]",
      "text/plain": [
       "<Figure size 3960x432 with 9 Axes>"
      ]
     },
     "metadata": {
      "needs_background": "light"
     },
     "output_type": "display_data"
    }
   ],
   "source": [
    "viz_histogram_weights(copy_of_the_weights_mish[:9],direction1,direction2) # plot for the 1st 9 layers"
   ]
  },
  {
   "cell_type": "code",
   "execution_count": 40,
   "metadata": {},
   "outputs": [],
   "source": [
    "# Set up the direction \n",
    "current_direction1 = direction1\n",
    "current_direction2 = direction2\n",
    "current_loader     = trainloader"
   ]
  },
  {
   "cell_type": "code",
   "execution_count": 41,
   "metadata": {},
   "outputs": [
    {
     "name": "stdout",
     "output_type": "stream",
     "text": [
      "count: 0\tCoord: [-1. -1.]\t\tAcc: 11.221590909090908\tLoss: 5.816\n",
      "count: 2\tCoord: [-0.5 -1. ]\t\tAcc: 10.653409090909092\tLoss: 4.252\n",
      "count: 4\tCoord: [ 0. -1.]\t\tAcc: 11.931818181818182\tLoss: 3.897\n",
      "count: 6\tCoord: [ 0.5 -1. ]\t\tAcc: 11.079545454545455\tLoss: 5.111\n",
      "count: 8\tCoord: [ 1. -1.]\t\tAcc: 10.866477272727273\tLoss: 7.398\n",
      "count: 10\tCoord: [-0.75 -0.75]\t\tAcc: 10.227272727272727\tLoss: 4.128\n",
      "count: 12\tCoord: [-0.25 -0.75]\t\tAcc: 10.582386363636363\tLoss: 3.305\n",
      "count: 14\tCoord: [ 0.25 -0.75]\t\tAcc: 10.724431818181818\tLoss: 3.46\n",
      "count: 16\tCoord: [ 0.75 -0.75]\t\tAcc: 10.085227272727273\tLoss: 4.534\n",
      "count: 18\tCoord: [-1.  -0.5]\t\tAcc: 10.582386363636363\tLoss: 4.591\n",
      "count: 20\tCoord: [-0.5 -0.5]\t\tAcc: 9.090909090909092\tLoss: 3.169\n",
      "count: 22\tCoord: [ 0.  -0.5]\t\tAcc: 10.227272727272727\tLoss: 2.787\n",
      "count: 24\tCoord: [ 0.5 -0.5]\t\tAcc: 11.079545454545455\tLoss: 3.233\n",
      "count: 26\tCoord: [ 1.  -0.5]\t\tAcc: 9.588068181818182\tLoss: 4.997\n",
      "count: 28\tCoord: [-0.75 -0.25]\t\tAcc: 10.511363636363637\tLoss: 3.692\n",
      "count: 30\tCoord: [-0.25 -0.25]\t\tAcc: 10.582386363636363\tLoss: 2.718\n",
      "count: 32\tCoord: [ 0.25 -0.25]\t\tAcc: 9.517045454545455\tLoss: 2.63\n",
      "count: 34\tCoord: [ 0.75 -0.25]\t\tAcc: 9.375\tLoss: 3.281\n",
      "count: 36\tCoord: [-1.  0.]\t\tAcc: 9.161931818181818\tLoss: 4.803\n",
      "count: 38\tCoord: [-0.5  0. ]\t\tAcc: 11.363636363636363\tLoss: 2.972\n",
      "count: 40\tCoord: [0. 0.]\t\tAcc: 11.363636363636363\tLoss: 2.566\n",
      "count: 42\tCoord: [0.5 0. ]\t\tAcc: 8.59375\tLoss: 2.986\n",
      "count: 44\tCoord: [1. 0.]\t\tAcc: 8.59375\tLoss: 4.385\n",
      "count: 46\tCoord: [-0.75  0.25]\t\tAcc: 9.161931818181818\tLoss: 3.989\n",
      "count: 48\tCoord: [-0.25  0.25]\t\tAcc: 9.446022727272727\tLoss: 2.793\n",
      "count: 50\tCoord: [0.25 0.25]\t\tAcc: 9.375\tLoss: 2.917\n",
      "count: 52\tCoord: [0.75 0.25]\t\tAcc: 8.451704545454545\tLoss: 3.81\n",
      "count: 54\tCoord: [-1.   0.5]\t\tAcc: 11.292613636363637\tLoss: 5.472\n",
      "count: 56\tCoord: [-0.5  0.5]\t\tAcc: 8.380681818181818\tLoss: 3.417\n",
      "count: 58\tCoord: [0.  0.5]\t\tAcc: 8.664772727272727\tLoss: 3.112\n",
      "count: 60\tCoord: [0.5 0.5]\t\tAcc: 6.676136363636363\tLoss: 3.435\n",
      "count: 62\tCoord: [1.  0.5]\t\tAcc: 9.517045454545455\tLoss: 5.091\n",
      "count: 64\tCoord: [-0.75  0.75]\t\tAcc: 7.7414772727272725\tLoss: 4.517\n",
      "count: 66\tCoord: [-0.25  0.75]\t\tAcc: 10.227272727272727\tLoss: 3.44\n",
      "count: 68\tCoord: [0.25 0.75]\t\tAcc: 10.795454545454545\tLoss: 3.463\n",
      "count: 70\tCoord: [0.75 0.75]\t\tAcc: 7.173295454545454\tLoss: 4.511\n",
      "count: 72\tCoord: [-1.  1.]\t\tAcc: 8.806818181818182\tLoss: 5.848\n",
      "count: 74\tCoord: [-0.5  1. ]\t\tAcc: 8.948863636363637\tLoss: 3.936\n",
      "count: 76\tCoord: [0. 1.]\t\tAcc: 12.215909090909092\tLoss: 4.277\n",
      "count: 78\tCoord: [0.5 1. ]\t\tAcc: 9.730113636363637\tLoss: 4.314\n",
      "count: 80\tCoord: [1. 1.]\t\tAcc: 9.588068181818182\tLoss: 6.78\n"
     ]
    }
   ],
   "source": [
    "# start the evaluation\n",
    "loss_list = np.zeros((numebr_of_points,numebr_of_points)); acc_list  = np.zeros((numebr_of_points,numebr_of_points))\n",
    "col_value = 0\n",
    "\n",
    "for count, ind in enumerate(inds):\n",
    "    \n",
    "    # change the weight values\n",
    "    coord   = coordinate[count]\n",
    "    changes = [d0.cuda()*coord[0] + d1.cuda()*coord[1] for (d0, d1) in zip(current_direction1, current_direction2)]\n",
    "    for (p, w, d) in zip(model_mish.parameters(), weight_mish, changes):\n",
    "        w = w.type(torch.FloatTensor)\n",
    "        w = w.cuda()\n",
    "        d = d.type(torch.FloatTensor)\n",
    "        d = d.cuda()\n",
    "        p.data = w + d\n",
    "\n",
    "    # start the evaluation\n",
    "    correct = 0; total_loss = 0; total = 0 \n",
    "    with torch.no_grad():\n",
    "        for batch_idx, (inputs, targets) in enumerate(current_loader):\n",
    "            batch_size = inputs.size(0)\n",
    "            total      = total + batch_size\n",
    "            \n",
    "            inputs, targets = Variable(inputs).cuda(),Variable(targets).cuda()\n",
    "            \n",
    "            outputs = model_mish(inputs)\n",
    "            loss    = criterion(outputs, targets)\n",
    "            total_loss   = total_loss + loss.item()*batch_size\n",
    "            _, predicted = torch.max(outputs.data, 1)\n",
    "            correct      = correct + predicted.eq(targets).sum().item()\n",
    "            sys.stdout.write(\"Coord: \"+str(coord)+\"\\tAcc: \"+str(predicted.eq(targets).sum().item())+\"\\tLoss: \"+str(np.around(loss.item(),3))+\"\\r\")\n",
    "            sys.stdout.flush()\n",
    "            \n",
    "            if batch_idx==10: break\n",
    "            \n",
    "        if count % 2 == 0 : sys.stdout.write(\"count: \"+str(count)+\"\\tCoord: \"+str(coord)+\"\\t\\tAcc: \"+str(100.*correct/total)+\"\\tLoss: \"+str(np.around(total_loss/total,3))+\"\\n\")\n",
    "        \n",
    "    # store value \n",
    "    loss_list[col_value][ind%numebr_of_points] = total_loss/total\n",
    "    acc_list [col_value][ind%numebr_of_points] = 100.*correct/total\n",
    "    ind_compare = ind + 1\n",
    "    if ind_compare % numebr_of_points == 0 :  col_value = col_value + 1"
   ]
  },
  {
   "cell_type": "code",
   "execution_count": 42,
   "metadata": {},
   "outputs": [
    {
     "data": {
      "image/png": "[encoded data removed]",
      "text/plain": [
       "<Figure size 1296x432 with 4 Axes>"
      ]
     },
     "metadata": {
      "needs_background": "light"
     },
     "output_type": "display_data"
    },
    {
     "data": {
      "application/vnd.plotly.v1+json": {
       "config": {
        "linkText": "Export to plot.ly",
        "plotlyServerURL": "https://plot.ly",
        "showLink": false
       },
       "data": [
        {
         "colorscale": "Cividis",
         "opacity": 0.6,
         "showscale": false,
         "type": "surface",
         "uid": "4e22c452-3441-486f-beec-589e0caf909c",
         "x": [
          [
           -1.0,
           -0.75,
           -0.5,
           -0.25,
           0.0,
           0.25,
           0.5,
           0.75,
           1.0
          ],
          [
           -1.0,
           -0.75,
           -0.5,
           -0.25,
           0.0,
           0.25,
           0.5,
           0.75,
           1.0
          ],
          [
           -1.0,
           -0.75,
           -0.5,
           -0.25,
           0.0,
           0.25,
           0.5,
           0.75,
           1.0
          ],
          [
           -1.0,
           -0.75,
           -0.5,
           -0.25,
           0.0,
           0.25,
           0.5,
           0.75,
           1.0
          ],
          [
           -1.0,
           -0.75,
           -0.5,
           -0.25,
           0.0,
           0.25,
           0.5,
           0.75,
           1.0
          ],
          [
           -1.0,
           -0.75,
           -0.5,
           -0.25,
           0.0,
           0.25,
           0.5,
           0.75,
           1.0
          ],
          [
           -1.0,
           -0.75,
           -0.5,
           -0.25,
           0.0,
           0.25,
           0.5,
           0.75,
           1.0
          ],
          [
           -1.0,
           -0.75,
           -0.5,
           -0.25,
           0.0,
           0.25,
           0.5,
           0.75,
           1.0
          ],
          [
           -1.0,
           -0.75,
           -0.5,
           -0.25,
           0.0,
           0.25,
           0.5,
           0.75,
           1.0
          ]
         ],
         "y": [
          [
           -1.0,
           -1.0,
           -1.0,
           -1.0,
           -1.0,
           -1.0,
           -1.0,
           -1.0,
           -1.0
          ],
          [
           -0.75,
           -0.75,
           -0.75,
           -0.75,
           -0.75,
           -0.75,
           -0.75,
           -0.75,
           -0.75
          ],
          [
           -0.5,
           -0.5,
           -0.5,
           -0.5,
           -0.5,
           -0.5,
           -0.5,
           -0.5,
           -0.5
          ],
          [
           -0.25,
           -0.25,
           -0.25,
           -0.25,
           -0.25,
           -0.25,
           -0.25,
           -0.25,
           -0.25
          ],
          [
           0.0,
           0.0,
           0.0,
           0.0,
           0.0,
           0.0,
           0.0,
           0.0,
           0.0
          ],
          [
           0.25,
           0.25,
           0.25,
           0.25,
           0.25,
           0.25,
           0.25,
           0.25,
           0.25
          ],
          [
           0.5,
           0.5,
           0.5,
           0.5,
           0.5,
           0.5,
           0.5,
           0.5,
           0.5
          ],
          [
           0.75,
           0.75,
           0.75,
           0.75,
           0.75,
           0.75,
           0.75,
           0.75,
           0.75
          ],
          [
           1.0,
           1.0,
           1.0,
           1.0,
           1.0,
           1.0,
           1.0,
           1.0,
           1.0
          ]
         ],
         "z": [
          [
           5.964058530182209,
           4.424382727088672,
           5.539320377604683,
           4.796028610594009,
           6.494981220904118,
           7.1851807188426005,
           5.8578739920378275,
           5.48622810853249,
           5.698597184821255
          ],
          [
           5.698597184821255,
           5.220766763171536,
           5.4331358394603,
           5.48622810853249,
           6.2826121446153556,
           5.592412646676873,
           7.025903911626028,
           5.114582225027155,
           6.176427606470973
          ],
          [
           5.48622810853249,
           5.698597184821255,
           4.371290458016482,
           5.804781722965636,
           5.220766763171536,
           5.698597184821255,
           5.8578739920378275,
           6.494981220904118,
           4.742936341521817
          ],
          [
           4.955305417810582,
           5.4331358394603,
           4.955305417810582,
           5.48622810853249,
           5.804781722965636,
           4.6898440724496275,
           6.494981220904118,
           4.583659534305245,
           4.371290458016482
          ],
          [
           4.424382727088672,
           6.2826121446153556,
           6.070243068326591,
           5.751689453893445,
           6.070243068326591,
           5.804781722965636,
           3.9996445745111453,
           3.6810909600779995,
           3.9996445745111453
          ],
          [
           5.592412646676873,
           4.424382727088672,
           4.371290458016482,
           4.636751803377436,
           5.167674494099346,
           4.583659534305245,
           3.0970760002838995,
           3.893460036366763,
           3.256352807500472
          ],
          [
           6.0171507992544,
           4.636751803377436,
           3.8403677672945724,
           4.583659534305245,
           4.052736843583335,
           5.008397686882773,
           2.5661533095619897,
           4.212013650799908,
           4.6898440724496275
          ],
          [
           3.893460036366763,
           3.3625373456448537,
           3.627998691005808,
           5.220766763171536,
           6.0171507992544,
           5.645504915749063,
           5.592412646676873,
           2.937799193067326,
           4.1058291126555275
          ],
          [
           4.158921381727717,
           4.1058291126555275,
           4.2651059198720995,
           5.4331358394603,
           6.707350297192884,
           7.397549795131363,
           4.8491208796662,
           3.15016826935609,
           4.742936341521817
          ]
         ]
        },
        {
         "colorscale": "Jet",
         "contours": {
          "z": {
           "project": {
            "z": true
           },
           "show": true,
           "usecolormap": true
          }
         },
         "opacity": 0.9,
         "type": "surface",
         "uid": "b1066314-ae72-40ea-b1ee-269adbfbe0a5",
         "x": [
          [
           -1.0,
           -0.75,
           -0.5,
           -0.25,
           0.0,
           0.25,
           0.5,
           0.75,
           1.0
          ],
          [
           -1.0,
           -0.75,
           -0.5,
           -0.25,
           0.0,
           0.25,
           0.5,
           0.75,
           1.0
          ],
          [
           -1.0,
           -0.75,
           -0.5,
           -0.25,
           0.0,
           0.25,
           0.5,
           0.75,
           1.0
          ],
          [
           -1.0,
           -0.75,
           -0.5,
           -0.25,
           0.0,
           0.25,
           0.5,
           0.75,
           1.0
          ],
          [
           -1.0,
           -0.75,
           -0.5,
           -0.25,
           0.0,
           0.25,
           0.5,
           0.75,
           1.0
          ],
          [
           -1.0,
           -0.75,
           -0.5,
           -0.25,
           0.0,
           0.25,
           0.5,
           0.75,
           1.0
          ],
          [
           -1.0,
           -0.75,
           -0.5,
           -0.25,
           0.0,
           0.25,
           0.5,
           0.75,
           1.0
          ],
          [
           -1.0,
           -0.75,
           -0.5,
           -0.25,
           0.0,
           0.25,
           0.5,
           0.75,
           1.0
          ],
          [
           -1.0,
           -0.75,
           -0.5,
           -0.25,
           0.0,
           0.25,
           0.5,
           0.75,
           1.0
          ]
         ],
         "y": [
          [
           -1.0,
           -1.0,
           -1.0,
           -1.0,
           -1.0,
           -1.0,
           -1.0,
           -1.0,
           -1.0
          ],
          [
           -0.75,
           -0.75,
           -0.75,
           -0.75,
           -0.75,
           -0.75,
           -0.75,
           -0.75,
           -0.75
          ],
          [
           -0.5,
           -0.5,
           -0.5,
           -0.5,
           -0.5,
           -0.5,
           -0.5,
           -0.5,
           -0.5
          ],
          [
           -0.25,
           -0.25,
           -0.25,
           -0.25,
           -0.25,
           -0.25,
           -0.25,
           -0.25,
           -0.25
          ],
          [
           0.0,
           0.0,
           0.0,
           0.0,
           0.0,
           0.0,
           0.0,
           0.0,
           0.0
          ],
          [
           0.25,
           0.25,
           0.25,
           0.25,
           0.25,
           0.25,
           0.25,
           0.25,
           0.25
          ],
          [
           0.5,
           0.5,
           0.5,
           0.5,
           0.5,
           0.5,
           0.5,
           0.5,
           0.5
          ],
          [
           0.75,
           0.75,
           0.75,
           0.75,
           0.75,
           0.75,
           0.75,
           0.75,
           0.75
          ],
          [
           1.0,
           1.0,
           1.0,
           1.0,
           1.0,
           1.0,
           1.0,
           1.0,
           1.0
          ]
         ],
         "z": [
          [
           5.815697063099254,
           4.954236160625111,
           4.251507824117487,
           4.050399541854858,
           3.8965113813226875,
           4.409271587025035,
           5.111129370602694,
           5.942650188099254,
           7.397549802606756
          ],
          [
           5.042558800090443,
           4.127509160475298,
           3.4957469159906562,
           3.3048129948702725,
           3.218466281890869,
           3.4601901444521816,
           3.835965785113248,
           4.534396518360484,
           5.994865720922297
          ],
          [
           4.591307813471014,
           3.698645656759089,
           3.1687944585626777,
           2.8557897697795522,
           2.7868440584702925,
           2.878515221855857,
           3.233209826729514,
           3.6473384987224233,
           4.99728402224454
          ],
          [
           4.647431113503196,
           3.6916461424394087,
           3.0794649774378,
           2.718469012867321,
           2.607283743945035,
           2.6297920617190274,
           2.809423555027355,
           3.280733043497259,
           4.263030463998968
          ],
          [
           4.802545634183017,
           3.64108285036954,
           2.9723138592459937,
           2.6611190058968286,
           2.5661533095619897,
           2.7281137596477163,
           2.9864574562419546,
           3.408475225622004,
           4.38489783893932
          ],
          [
           5.140149419957941,
           3.9894375801086426,
           3.25575176152316,
           2.792580257762562,
           2.7776470401070337,
           2.917128649624911,
           3.1468126990578393,
           3.8101617856459185,
           4.789702285419811
          ],
          [
           5.472079407085072,
           4.322748704390093,
           3.4172852472825483,
           3.141734144904397,
           3.1124556931582363,
           3.163353204727173,
           3.4351703470403496,
           4.092048818414861,
           5.0908920548178935
          ],
          [
           5.984216690063477,
           4.517321846701882,
           3.6066970391706987,
           3.440284100445834,
           3.491907141425393,
           3.4630236625671387,
           3.6215896172956987,
           4.511166615919634,
           5.738353469155052
          ],
          [
           5.847892414439809,
           4.69042181968689,
           3.936292366548018,
           4.196474855596369,
           4.277454202825373,
           4.069933652877808,
           4.313618248159235,
           5.172066948630593,
           6.779967871579257
          ]
         ]
        }
       ],
       "layout": {
        "autosize": true,
        "margin": {
         "b": 65,
         "l": 65,
         "r": 50,
         "t": 90
        },
        "scene": {
         "camera": {
          "eye": {
           "x": 1.87,
           "y": 0.88,
           "z": -0.64
          }
         }
        },
        "title": {
         "text": "Loss / Accuracy"
        }
       }
      }
     },
     "metadata": {},
     "output_type": "display_data"
    },
    {
     "data": {
      "application/vnd.plotly.v1+json": {
       "config": {
        "linkText": "Export to plot.ly",
        "plotlyServerURL": "https://plot.ly",
        "showLink": false
       },
       "data": [
        {
         "colorscale": "Cividis",
         "opacity": 0.6,
         "showscale": false,
         "type": "surface",
         "uid": "cec18538-4aae-4d07-9342-29f1be064204",
         "x": [
          [
           -1.0,
           -0.75,
           -0.5,
           -0.25,
           0.0,
           0.25,
           0.5,
           0.75,
           1.0
          ],
          [
           -1.0,
           -0.75,
           -0.5,
           -0.25,
           0.0,
           0.25,
           0.5,
           0.75,
           1.0
          ],
          [
           -1.0,
           -0.75,
           -0.5,
           -0.25,
           0.0,
           0.25,
           0.5,
           0.75,
           1.0
          ],
          [
           -1.0,
           -0.75,
           -0.5,
           -0.25,
           0.0,
           0.25,
           0.5,
           0.75,
           1.0
          ],
          [
           -1.0,
           -0.75,
           -0.5,
           -0.25,
           0.0,
           0.25,
           0.5,
           0.75,
           1.0
          ],
          [
           -1.0,
           -0.75,
           -0.5,
           -0.25,
           0.0,
           0.25,
           0.5,
           0.75,
           1.0
          ],
          [
           -1.0,
           -0.75,
           -0.5,
           -0.25,
           0.0,
           0.25,
           0.5,
           0.75,
           1.0
          ],
          [
           -1.0,
           -0.75,
           -0.5,
           -0.25,
           0.0,
           0.25,
           0.5,
           0.75,
           1.0
          ],
          [
           -1.0,
           -0.75,
           -0.5,
           -0.25,
           0.0,
           0.25,
           0.5,
           0.75,
           1.0
          ]
         ],
         "y": [
          [
           -1.0,
           -1.0,
           -1.0,
           -1.0,
           -1.0,
           -1.0,
           -1.0,
           -1.0,
           -1.0
          ],
          [
           -0.75,
           -0.75,
           -0.75,
           -0.75,
           -0.75,
           -0.75,
           -0.75,
           -0.75,
           -0.75
          ],
          [
           -0.5,
           -0.5,
           -0.5,
           -0.5,
           -0.5,
           -0.5,
           -0.5,
           -0.5,
           -0.5
          ],
          [
           -0.25,
           -0.25,
           -0.25,
           -0.25,
           -0.25,
           -0.25,
           -0.25,
           -0.25,
           -0.25
          ],
          [
           0.0,
           0.0,
           0.0,
           0.0,
           0.0,
           0.0,
           0.0,
           0.0,
           0.0
          ],
          [
           0.25,
           0.25,
           0.25,
           0.25,
           0.25,
           0.25,
           0.25,
           0.25,
           0.25
          ],
          [
           0.5,
           0.5,
           0.5,
           0.5,
           0.5,
           0.5,
           0.5,
           0.5,
           0.5
          ],
          [
           0.75,
           0.75,
           0.75,
           0.75,
           0.75,
           0.75,
           0.75,
           0.75,
           0.75
          ],
          [
           1.0,
           1.0,
           1.0,
           1.0,
           1.0,
           1.0,
           1.0,
           1.0,
           1.0
          ]
         ],
         "z": [
          [
           1.6870169428374768,
           1.349616020564838,
           1.5939408263484731,
           1.431057622492716,
           1.8033620884487316,
           1.9546107777433628,
           1.663747913715226,
           1.5823063117873475,
           1.6288443700318496
          ],
          [
           1.6288443700318496,
           1.52413373898172,
           1.570671797226222,
           1.5823063117873475,
           1.7568240302042297,
           1.6055753409095985,
           1.9197072340599863,
           1.5008647098594694,
           1.733555001081979
          ],
          [
           1.5823063117873475,
           1.6288443700318496,
           1.3379815060037128,
           1.6521133991541004,
           1.52413373898172,
           1.6288443700318496,
           1.663747913715226,
           1.8033620884487316,
           1.4194231079315909
          ],
          [
           1.465961166176093,
           1.570671797226222,
           1.465961166176093,
           1.5823063117873475,
           1.6521133991541004,
           1.4077885933704655,
           1.8033620884487316,
           1.3845195642482144,
           1.3379815060037128
          ],
          [
           1.349616020564838,
           1.7568240302042297,
           1.7102859719597276,
           1.640478884592975,
           1.7102859719597276,
           1.6521133991541004,
           1.2565399040758343,
           1.1867328167090814,
           1.2565399040758343
          ],
          [
           1.6055753409095985,
           1.349616020564838,
           1.3379815060037128,
           1.3961540788093398,
           1.5124992244205946,
           1.3845195642482144,
           1.0587531565367012,
           1.233270874953583,
           1.0936567002200774
          ],
          [
           1.6986514573986025,
           1.3961540788093398,
           1.2216363603924578,
           1.3845195642482144,
           1.2681744186369595,
           1.4775956807372181,
           0.9424080109254462,
           1.303077962320336,
           1.4077885933704655
          ],
          [
           1.233270874953583,
           1.1169257293423285,
           1.1750983021479557,
           1.52413373898172,
           1.6986514573986025,
           1.617209855470724,
           1.6055753409095985,
           1.0238496128533245,
           1.279808933198085
          ],
          [
           1.2914434477592107,
           1.279808933198085,
           1.3147124768814615,
           1.570671797226222,
           1.8499001466932337,
           2.0011488359878644,
           1.4426921370538417,
           1.0703876710978264,
           1.4194231079315909
          ]
         ]
        },
        {
         "colorscale": "Jet",
         "contours": {
          "z": {
           "project": {
            "z": true
           },
           "show": true,
           "usecolormap": true
          }
         },
         "opacity": 0.9,
         "type": "surface",
         "uid": "1e501a52-5560-425d-bf59-c8e4edfd6634",
         "x": [
          [
           -1.0,
           -0.75,
           -0.5,
           -0.25,
           0.0,
           0.25,
           0.5,
           0.75,
           1.0
          ],
          [
           -1.0,
           -0.75,
           -0.5,
           -0.25,
           0.0,
           0.25,
           0.5,
           0.75,
           1.0
          ],
          [
           -1.0,
           -0.75,
           -0.5,
           -0.25,
           0.0,
           0.25,
           0.5,
           0.75,
           1.0
          ],
          [
           -1.0,
           -0.75,
           -0.5,
           -0.25,
           0.0,
           0.25,
           0.5,
           0.75,
           1.0
          ],
          [
           -1.0,
           -0.75,
           -0.5,
           -0.25,
           0.0,
           0.25,
           0.5,
           0.75,
           1.0
          ],
          [
           -1.0,
           -0.75,
           -0.5,
           -0.25,
           0.0,
           0.25,
           0.5,
           0.75,
           1.0
          ],
          [
           -1.0,
           -0.75,
           -0.5,
           -0.25,
           0.0,
           0.25,
           0.5,
           0.75,
           1.0
          ],
          [
           -1.0,
           -0.75,
           -0.5,
           -0.25,
           0.0,
           0.25,
           0.5,
           0.75,
           1.0
          ],
          [
           -1.0,
           -0.75,
           -0.5,
           -0.25,
           0.0,
           0.25,
           0.5,
           0.75,
           1.0
          ]
         ],
         "y": [
          [
           -1.0,
           -1.0,
           -1.0,
           -1.0,
           -1.0,
           -1.0,
           -1.0,
           -1.0,
           -1.0
          ],
          [
           -0.75,
           -0.75,
           -0.75,
           -0.75,
           -0.75,
           -0.75,
           -0.75,
           -0.75,
           -0.75
          ],
          [
           -0.5,
           -0.5,
           -0.5,
           -0.5,
           -0.5,
           -0.5,
           -0.5,
           -0.5,
           -0.5
          ],
          [
           -0.25,
           -0.25,
           -0.25,
           -0.25,
           -0.25,
           -0.25,
           -0.25,
           -0.25,
           -0.25
          ],
          [
           0.0,
           0.0,
           0.0,
           0.0,
           0.0,
           0.0,
           0.0,
           0.0,
           0.0
          ],
          [
           0.25,
           0.25,
           0.25,
           0.25,
           0.25,
           0.25,
           0.25,
           0.25,
           0.25
          ],
          [
           0.5,
           0.5,
           0.5,
           0.5,
           0.5,
           0.5,
           0.5,
           0.5,
           0.5
          ],
          [
           0.75,
           0.75,
           0.75,
           0.75,
           0.75,
           0.75,
           0.75,
           0.75,
           0.75
          ],
          [
           1.0,
           1.0,
           1.0,
           1.0,
           1.0,
           1.0,
           1.0,
           1.0,
           1.0
          ]
         ],
         "z": [
          [
           1.7605606520622827,
           1.6002430006263764,
           1.447273702161313,
           1.3988155285624702,
           1.36008163520641,
           1.4837095028059946,
           1.631420391655717,
           1.7821551934876165,
           2.0011488376260043
          ],
          [
           1.617913651678677,
           1.417674116185891,
           1.2515470627216438,
           1.195379889212716,
           1.1689049361129094,
           1.2413235426036429,
           1.3444212375635949,
           1.5116920026858782,
           1.7909033897169169
          ],
          [
           1.5241649101706936,
           1.3079667139278968,
           1.1533512185745702,
           1.0493484317468222,
           1.0249097937482565,
           1.0572746132405917,
           1.1734753981929613,
           1.2939977231822886,
           1.6088945692988579
          ],
          [
           1.5363146182342613,
           1.3060724676375426,
           1.1247558732723018,
           1.0000688589246822,
           0.9583089682865834,
           0.9669047790787908,
           1.0329793217417915,
           1.1880668862972503,
           1.4499802838985127
          ],
          [
           1.569146117787843,
           1.2922811237736125,
           1.089340726678711,
           0.978746713241626,
           0.9424080109254462,
           1.0036104398623926,
           1.0940878877319702,
           1.2262650433835511,
           1.4781663277053858
          ],
          [
           1.6370821490752765,
           1.3836502636000938,
           1.1804232049154133,
           1.0269659920182506,
           1.0216041808628953,
           1.0705997933154958,
           1.1463900990113436,
           1.3376716516611895,
           1.5664682561341907
          ],
          [
           1.699658691743663,
           1.4638914740838094,
           1.228846448514235,
           1.1447749229194637,
           1.1354120265596217,
           1.1516326057234083,
           1.2340665160139344,
           1.4090457782271262,
           1.6274530715561228
          ],
          [
           1.7891254515913317,
           1.5079193064480405,
           1.2827924059266065,
           1.2355540553140656,
           1.2504480458212082,
           1.2421420983646385,
           1.2869130502522734,
           1.5065557932173674,
           1.7471723171179725
          ],
          [
           1.766081325294634,
           1.5455225186455541,
           1.3702392565502826,
           1.4342448527668954,
           1.4533580201986374,
           1.4036266978174086,
           1.4617770526650091,
           1.643272405263302,
           1.9139723632359522
          ]
         ]
        }
       ],
       "layout": {
        "autosize": true,
        "margin": {
         "b": 65,
         "l": 65,
         "r": 50,
         "t": 90
        },
        "scene": {
         "camera": {
          "eye": {
           "x": 1.87,
           "y": 0.88,
           "z": -0.64
          }
         }
        },
        "title": {
         "text": "Log Scale Loss / Accuracy"
        }
       }
      }
     },
     "metadata": {},
     "output_type": "display_data"
    }
   ],
   "source": [
    "create_viz(loss_list,acc_list)"
   ]
  }
 ],
 "metadata": {
  "kernelspec": {
   "display_name": "Python 3",
   "language": "python",
   "name": "python3"
  },
  "language_info": {
   "codemirror_mode": {
    "name": "ipython",
    "version": 3
   },
   "file_extension": ".py",
   "mimetype": "text/x-python",
   "name": "python",
   "nbconvert_exporter": "python",
   "pygments_lexer": "ipython3",
   "version": "3.6.6"
  }
 },
 "nbformat": 4,
 "nbformat_minor": 1
}
